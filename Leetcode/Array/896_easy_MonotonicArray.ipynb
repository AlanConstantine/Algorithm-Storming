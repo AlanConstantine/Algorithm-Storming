{
 "cells": [
  {
   "cell_type": "code",
   "execution_count": 1,
   "metadata": {
    "ExecuteTime": {
     "end_time": "2019-01-05T03:24:13.788575Z",
     "start_time": "2019-01-05T03:24:13.778820Z"
    }
   },
   "outputs": [],
   "source": [
    "# 如果数组是单调递增或单调递减的，那么它是单调的。\n",
    "\n",
    "# 如果对于所有 i <= j，A[i] <= A[j]，那么数组 A 是单调递增的。 如果对于所有 i <= j，A[i]> = A[j]，那么数组 A 是单调递减的。\n",
    "\n",
    "# 当给定的数组 A 是单调数组时返回 true，否则返回 false。\n",
    "\n",
    "\n",
    "# 示例 1：\n",
    "\n",
    "# 输入：[1,2,2,3]\n",
    "# 输出：true\n",
    "# 示例 2：\n",
    "\n",
    "# 输入：[6,5,4,4]\n",
    "# 输出：true\n",
    "# 示例 3：\n",
    "\n",
    "# 输入：[1,3,2]\n",
    "# 输出：false\n",
    "# 示例 4：\n",
    "\n",
    "# 输入：[1,2,4,5]\n",
    "# 输出：true\n",
    "# 示例 5：\n",
    "\n",
    "# 输入：[1,1,1]\n",
    "# 输出：true\n",
    "\n",
    "\n",
    "# 提示：\n",
    "\n",
    "# 1 <= A.length <= 50000\n",
    "# -100000 <= A[i] <= 100000"
   ]
  },
  {
   "cell_type": "code",
   "execution_count": 5,
   "metadata": {
    "ExecuteTime": {
     "end_time": "2019-01-05T05:51:01.948922Z",
     "start_time": "2019-01-05T05:51:01.932574Z"
    }
   },
   "outputs": [],
   "source": [
    "class Solution:\n",
    "    def isMonotonic(self, A):\n",
    "        \"\"\"\n",
    "        :type A: List[int]\n",
    "        :rtype: bool\n",
    "        \"\"\"\n",
    "        increase = 0\n",
    "        decrease = 0\n",
    "        equal = 0\n",
    "        for i in range(1, len(A)):\n",
    "            if A[i-1] < A[i]:\n",
    "                increase += 1\n",
    "            elif A[i-1] > A[i]:\n",
    "                decrease += 1\n",
    "            else:\n",
    "                equal += 1\n",
    "        if equal == len(A)-1 or increase == 0 or decrease == 0:\n",
    "            return True\n",
    "        else:\n",
    "            return False\n",
    "        \n",
    "class Solution2:\n",
    "    def isMonotonic(self, A):\n",
    "        return (all(A[i] <= A[i+1] for i in range(len(A) - 1)) or\n",
    "                all(A[i] >= A[i+1] for i in range(len(A) - 1)))\n",
    "    \n",
    "class Solution3:\n",
    "    def isMonotonic(self, A):\n",
    "        store = 0\n",
    "        for i in range(len(A) - 1):\n",
    "            c = cmp(A[i], A[i+1])\n",
    "            if c:\n",
    "                if c != store != 0:\n",
    "                    return False\n",
    "                store = c\n",
    "        return True"
   ]
  },
  {
   "cell_type": "code",
   "execution_count": 6,
   "metadata": {
    "ExecuteTime": {
     "end_time": "2019-01-05T05:51:02.687407Z",
     "start_time": "2019-01-05T05:51:02.678821Z"
    }
   },
   "outputs": [],
   "source": [
    "A = [1, 2, 2, 3]"
   ]
  },
  {
   "cell_type": "code",
   "execution_count": 7,
   "metadata": {
    "ExecuteTime": {
     "end_time": "2019-01-05T05:51:03.394869Z",
     "start_time": "2019-01-05T05:51:03.386992Z"
    }
   },
   "outputs": [
    {
     "name": "stdout",
     "output_type": "stream",
     "text": [
      "True\n"
     ]
    }
   ],
   "source": [
    "s = Solution2()\n",
    "print(s.isMonotonic(A))"
   ]
  },
  {
   "cell_type": "code",
   "execution_count": null,
   "metadata": {},
   "outputs": [],
   "source": []
  },
  {
   "cell_type": "code",
   "execution_count": null,
   "metadata": {},
   "outputs": [],
   "source": []
  }
 ],
 "metadata": {
  "kernelspec": {
   "display_name": "Python 3",
   "language": "python",
   "name": "python3"
  },
  "language_info": {
   "codemirror_mode": {
    "name": "ipython",
    "version": 3
   },
   "file_extension": ".py",
   "mimetype": "text/x-python",
   "name": "python",
   "nbconvert_exporter": "python",
   "pygments_lexer": "ipython3",
   "version": "3.5.2"
  },
  "toc": {
   "base_numbering": 1,
   "nav_menu": {},
   "number_sections": true,
   "sideBar": true,
   "skip_h1_title": false,
   "title_cell": "Table of Contents",
   "title_sidebar": "Contents",
   "toc_cell": false,
   "toc_position": {},
   "toc_section_display": true,
   "toc_window_display": false
  },
  "varInspector": {
   "cols": {
    "lenName": 16,
    "lenType": 16,
    "lenVar": 40
   },
   "kernels_config": {
    "python": {
     "delete_cmd_postfix": "",
     "delete_cmd_prefix": "del ",
     "library": "var_list.py",
     "varRefreshCmd": "print(var_dic_list())"
    },
    "r": {
     "delete_cmd_postfix": ") ",
     "delete_cmd_prefix": "rm(",
     "library": "var_list.r",
     "varRefreshCmd": "cat(var_dic_list()) "
    }
   },
   "types_to_exclude": [
    "module",
    "function",
    "builtin_function_or_method",
    "instance",
    "_Feature"
   ],
   "window_display": false
  }
 },
 "nbformat": 4,
 "nbformat_minor": 2
}
