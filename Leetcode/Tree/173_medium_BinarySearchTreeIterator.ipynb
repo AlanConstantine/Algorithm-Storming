{
 "cells": [
  {
   "cell_type": "markdown",
   "metadata": {},
   "source": [
    "![](./173.jpeg)\n",
    "Reference: [link](https://leetcode-cn.com/problems/binary-search-tree-iterator/solution/fu-xue-ming-zhu-dan-diao-zhan-die-dai-la-dkrm/)"
   ]
  },
  {
   "cell_type": "code",
   "execution_count": null,
   "metadata": {},
   "outputs": [],
   "source": [
    "# 实现一个二叉搜索树迭代器类BSTIterator ，表示一个按中序遍历二叉搜索树（BST）的迭代器：\n",
    "# BSTIterator(TreeNode root) 初始化 BSTIterator 类的一个对象。BST 的根节点 root 会作为构造函数的一部分给出。指针应初始化为一个不存在于 BST 中的数字，且该数字小于 BST 中的任何元素。\n",
    "# boolean hasNext() 如果向指针右侧遍历存在数字，则返回 true ；否则返回 false 。\n",
    "# int next()将指针向右移动，然后返回指针处的数字。\n",
    "# 注意，指针初始化为一个不存在于 BST 中的数字，所以对 next() 的首次调用将返回 BST 中的最小元素。\n",
    "\n",
    "# 你可以假设 next() 调用总是有效的，也就是说，当调用 next() 时，BST 的中序遍历中至少存在一个下一个数字。\n",
    "\n",
    "\n",
    "# Definition for a binary tree node.\n",
    "# 方法1：扁平化：中序遍历BST为单调递增序列保存在数组中，然后利用数组本身实现迭代器\n",
    "\n",
    "class TreeNode:\n",
    "    def __init__(self, val=0, left=None, right=None):\n",
    "        self.val = val\n",
    "        self.left = left\n",
    "        self.right = right\n",
    "\n",
    "\n",
    "class BSTIterator:\n",
    "\n",
    "    def __init__(self, root: TreeNode):\n",
    "        self.s = []\n",
    "        while root:  # 先把root的根节点以及所有左节点放入栈中（后进先出）\n",
    "            self.s.append(root)\n",
    "            root = root.left\n",
    "\n",
    "    def next(self) -> int:\n",
    "        tmp = self.s.pop()  # 每次调用的时候从栈尾里面取出节点\n",
    "        res = tmp.val\n",
    "        tmp = tmp.right\n",
    "        while tmp:  # 被取出来后再把取出来的节点的右节点入栈\n",
    "            self.s.append(tmp)\n",
    "            tmp = tmp.left\n",
    "        return res\n",
    "\n",
    "    def hasNext(self) -> bool:\n",
    "        return len(self.s) != 0\n",
    "\n",
    "# Your BSTIterator object will be instantiated and called as such:\n",
    "# obj = BSTIterator(root)\n",
    "# param_1 = obj.next()\n",
    "# param_2 = obj.hasNext()\n",
    "\n",
    "\n",
    "a = TreeNode(7)\n",
    "b = TreeNode(3)\n",
    "c = TreeNode(15)\n",
    "d = TreeNode(9)\n",
    "e = TreeNode(20)\n",
    "\n",
    "a.left = b\n",
    "a.right = c\n",
    "c.left = d\n",
    "c.right = e\n",
    "\n",
    "\n",
    "bst = BSTIterator(a)\n"
   ]
  }
 ],
 "metadata": {
  "language_info": {
   "name": "python"
  },
  "orig_nbformat": 4
 },
 "nbformat": 4,
 "nbformat_minor": 2
}
