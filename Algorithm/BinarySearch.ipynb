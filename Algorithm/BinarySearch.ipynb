{
 "cells": [
  {
   "cell_type": "markdown",
   "metadata": {},
   "source": [
    "## 二分查找"
   ]
  },
  {
   "cell_type": "markdown",
   "metadata": {},
   "source": [
    "<br>\n",
    "二分查找就是将查找的键和子数组的中间键作比较，如果被查找的键小于中间键，就在左子数组继续查找；如果大于中间键，就在右子数组中查找，否则中间键就是要找的元素。\n",
    "\n",
    "Reference\n",
    "* [你真的会写二分查找吗](https://www.cnblogs.com/luoxn28/p/5767571.html)\n"
   ]
  },
  {
   "cell_type": "code",
   "execution_count": 3,
   "metadata": {
    "ExecuteTime": {
     "end_time": "2019-03-12T03:24:54.255903Z",
     "start_time": "2019-03-12T03:24:54.248338Z"
    }
   },
   "outputs": [],
   "source": [
    "nums = [2, 3, 5, 7, 9, 12, 34]"
   ]
  },
  {
   "cell_type": "code",
   "execution_count": 9,
   "metadata": {
    "ExecuteTime": {
     "end_time": "2019-03-12T03:28:17.903587Z",
     "start_time": "2019-03-12T03:28:17.893807Z"
    }
   },
   "outputs": [],
   "source": [
    "def bs(nums, target):\n",
    "    left = 0\n",
    "    right = len(nums)-1\n",
    "    while right >= left:\n",
    "        mid = int((left+right)/2)\n",
    "        # 取数组中间值\n",
    "        if target > nums[mid]:\n",
    "            # 若目标值大于中间值，则说明目标值落在中间值右侧，左指针重新定为中间值+1\n",
    "            left = mid+1\n",
    "        elif target < nums[mid]:\n",
    "            # 若目标值小于中间值，则说明目标值落在中间值左侧，右指针重新定为中间值-1\n",
    "            right = mid-1\n",
    "        else:\n",
    "            # 否则目标值就等于中间值\n",
    "            return mid\n",
    "    return -1"
   ]
  },
  {
   "cell_type": "code",
   "execution_count": 10,
   "metadata": {
    "ExecuteTime": {
     "end_time": "2019-03-12T03:28:18.584661Z",
     "start_time": "2019-03-12T03:28:18.576923Z"
    }
   },
   "outputs": [
    {
     "data": {
      "text/plain": [
       "5"
      ]
     },
     "execution_count": 10,
     "metadata": {},
     "output_type": "execute_result"
    }
   ],
   "source": [
    "bs(nums, 12)"
   ]
  },
  {
   "cell_type": "markdown",
   "metadata": {},
   "source": [
    "## 二分法变种"
   ]
  },
  {
   "cell_type": "markdown",
   "metadata": {},
   "source": [
    "### 查找第一个与key相等的元素\n",
    "查找第一个相等的元素，也就是说等于查找key值的元素有好多个，返回这些元素最左边的元素下标。"
   ]
  },
  {
   "cell_type": "code",
   "execution_count": 11,
   "metadata": {
    "ExecuteTime": {
     "end_time": "2019-03-12T04:28:16.220143Z",
     "start_time": "2019-03-12T04:28:16.212812Z"
    }
   },
   "outputs": [],
   "source": [
    "nums = [2, 3, 5, 5, 7, 9, 12, 12, 34]"
   ]
  },
  {
   "cell_type": "code",
   "execution_count": 23,
   "metadata": {
    "ExecuteTime": {
     "end_time": "2019-03-12T04:37:45.073778Z",
     "start_time": "2019-03-12T04:37:45.066837Z"
    }
   },
   "outputs": [],
   "source": [
    "def bs_first_equal(nums, target):\n",
    "    left = 0\n",
    "    right = len(nums)-1\n",
    "    while right >= left:\n",
    "        mid = int((left+right)/2)\n",
    "        if target <= nums[mid]:\n",
    "            # 因为取最左边，因此这里使用<=，即表示nums[mid]可以取到target，\n",
    "            # 将左边的target靠右边的target限制\n",
    "            right = mid-1\n",
    "        else:\n",
    "            left = mid+1\n",
    "    if left < len(nums) and nums[left] == target:\n",
    "        return left\n",
    "    return -1"
   ]
  },
  {
   "cell_type": "code",
   "execution_count": 26,
   "metadata": {
    "ExecuteTime": {
     "end_time": "2019-03-12T04:38:05.401993Z",
     "start_time": "2019-03-12T04:38:05.393058Z"
    }
   },
   "outputs": [
    {
     "data": {
      "text/plain": [
       "6"
      ]
     },
     "execution_count": 26,
     "metadata": {},
     "output_type": "execute_result"
    }
   ],
   "source": [
    "bs_first_equal(nums, 12)"
   ]
  },
  {
   "cell_type": "markdown",
   "metadata": {},
   "source": [
    "### 查找最后一个与key相等的元素\n",
    "查找最后一个相等的元素，也就是说等于查找key值的元素有好多个，返回这些元素最右边的元素下标。"
   ]
  },
  {
   "cell_type": "code",
   "execution_count": 31,
   "metadata": {
    "ExecuteTime": {
     "end_time": "2019-03-12T04:44:58.892117Z",
     "start_time": "2019-03-12T04:44:58.877334Z"
    }
   },
   "outputs": [],
   "source": [
    "def bs_last_equal(nums, target):\n",
    "    left = 0\n",
    "    right = len(nums)-1\n",
    "    while right >= left:\n",
    "        mid = int((left+right)/2)\n",
    "        if target >= nums[mid]:\n",
    "            # 因为取最右边，因此这里使用>=，即表示nums[mid]可以取到target，\n",
    "            # 将右边的target靠左边的target限制\n",
    "            left = mid+1\n",
    "        else:\n",
    "            right = mid-1\n",
    "    if right >= 0 and nums[right] == target:\n",
    "        return right\n",
    "    return -1"
   ]
  },
  {
   "cell_type": "code",
   "execution_count": 34,
   "metadata": {
    "ExecuteTime": {
     "end_time": "2019-03-12T04:48:22.431625Z",
     "start_time": "2019-03-12T04:48:22.423160Z"
    }
   },
   "outputs": [
    {
     "data": {
      "text/plain": [
       "3"
      ]
     },
     "execution_count": 34,
     "metadata": {},
     "output_type": "execute_result"
    }
   ],
   "source": [
    "bs_last_equal(nums, 5)"
   ]
  },
  {
   "cell_type": "markdown",
   "metadata": {},
   "source": [
    "### 查找最后一个等于或者小于key的元素\n",
    "查找最后一个等于或者小于key的元素，也就是说等于查找key值的元素有好多个，返回这些元素最右边的元素下标；如果没有等于key值的元素，则返回小于key的最右边元素下标。"
   ]
  },
  {
   "cell_type": "code",
   "execution_count": 44,
   "metadata": {
    "ExecuteTime": {
     "end_time": "2019-03-12T06:44:04.448334Z",
     "start_time": "2019-03-12T06:44:04.440405Z"
    }
   },
   "outputs": [],
   "source": [
    "nums = [2, 3, 5, 5, 7, 9, 12, 12, 34]"
   ]
  },
  {
   "cell_type": "code",
   "execution_count": 45,
   "metadata": {
    "ExecuteTime": {
     "end_time": "2019-03-12T06:44:04.493740Z",
     "start_time": "2019-03-12T06:44:04.477510Z"
    }
   },
   "outputs": [],
   "source": [
    "def bs_last_equalII(nums, target):\n",
    "    left = 0\n",
    "    right = len(nums)-1\n",
    "    while right >= left:\n",
    "        mid = int((left+right)/2)\n",
    "        if target < nums[mid]:\n",
    "            right = mid-1\n",
    "        else:\n",
    "            left = mid+1\n",
    "    return right"
   ]
  },
  {
   "cell_type": "code",
   "execution_count": 47,
   "metadata": {
    "ExecuteTime": {
     "end_time": "2019-03-12T06:56:48.662306Z",
     "start_time": "2019-03-12T06:56:48.654115Z"
    }
   },
   "outputs": [
    {
     "data": {
      "text/plain": [
       "7"
      ]
     },
     "execution_count": 47,
     "metadata": {},
     "output_type": "execute_result"
    }
   ],
   "source": [
    "bs_last_equalII(nums, 12)"
   ]
  },
  {
   "cell_type": "markdown",
   "metadata": {
    "ExecuteTime": {
     "end_time": "2019-03-12T07:00:35.065817Z",
     "start_time": "2019-03-12T07:00:35.059349Z"
    }
   },
   "source": [
    "### 查找第一个等于或者大于key的元素\n",
    "查找第一个等于或者大于key的元素，也就是说等于查找key值的元素有好多个，返回这些元素最左边的元素下标；如果没有等于key值的元素，则返回大于key的最左边元素下标。"
   ]
  },
  {
   "cell_type": "code",
   "execution_count": 50,
   "metadata": {
    "ExecuteTime": {
     "end_time": "2019-03-12T06:58:57.297833Z",
     "start_time": "2019-03-12T06:58:57.288382Z"
    }
   },
   "outputs": [],
   "source": [
    "def bs_first_equalII(nums, target):\n",
    "    left = 0\n",
    "    right = len(nums)-1\n",
    "    while right >= left:\n",
    "        mid = int((left+right)/2)\n",
    "        if target < nums[mid]:\n",
    "            right = mid-1\n",
    "        else:\n",
    "            left = mid+1\n",
    "    return left"
   ]
  },
  {
   "cell_type": "code",
   "execution_count": 51,
   "metadata": {
    "ExecuteTime": {
     "end_time": "2019-03-12T06:58:58.134193Z",
     "start_time": "2019-03-12T06:58:58.124708Z"
    }
   },
   "outputs": [
    {
     "data": {
      "text/plain": [
       "8"
      ]
     },
     "execution_count": 51,
     "metadata": {},
     "output_type": "execute_result"
    }
   ],
   "source": [
    "bs_first_equalII(nums, 12)"
   ]
  },
  {
   "cell_type": "markdown",
   "metadata": {},
   "source": [
    "### 查找最后一个小于key的元素\n",
    "查找最后一个小于key的元素，也就是说返回小于key的最右边元素下标。"
   ]
  },
  {
   "cell_type": "code",
   "execution_count": null,
   "metadata": {},
   "outputs": [],
   "source": [
    "def bs_last_less(nums, target):\n",
    "    left = 0\n",
    "    right = len(nums)-1\n",
    "    while right >= left:\n",
    "        mid = int((left+right)/2)\n",
    "        if target <= nums[mid]:\n",
    "            right = mid-1\n",
    "        else:\n",
    "            left = mid+1\n",
    "    return right"
   ]
  },
  {
   "cell_type": "markdown",
   "metadata": {},
   "source": [
    "### 查找第一个大于key的元素\n",
    "查找第一个等于key的元素，也就是说返回大于key的最左边元素下标。"
   ]
  },
  {
   "cell_type": "code",
   "execution_count": null,
   "metadata": {},
   "outputs": [],
   "source": [
    "def bs_first_great(nums, target):\n",
    "    left = 0\n",
    "    right = len(nums)-1\n",
    "    while right >= left:\n",
    "        mid = int((left+right)/2)\n",
    "        if target < nums[mid]:\n",
    "            right = mid-1\n",
    "        else:\n",
    "            left = mid+1\n",
    "    return left"
   ]
  },
  {
   "cell_type": "markdown",
   "metadata": {},
   "source": [
    "## 二分查找变种总结\n",
    "```\n",
    "left = 0\n",
    "right = len(nums)-1\n",
    "while right >= left:\n",
    "    mid = int((left+right)/2)\n",
    "    if target ? nums[mid]:\n",
    "#       right = mid-1\n",
    "    else:\n",
    "#       left = mid+1\n",
    "return xxx\n",
    "```\n",
    "\n",
    "### 首先判断出是返回left，还是返回right\n",
    "因为我们知道最后跳出while (left <= right)循环条件是right < left，且right = left - 1。最后right和left一定是卡在\"边界值\"的左右两边，如果是比较值为key，查找小于等于（或者是小于）key的元素，则边界值就是等于key的所有元素的最左边那个，其实应该返回left。\n",
    "\n",
    "### 判断出比较符号\n",
    "```\n",
    "    mid = int((left+right)/2)\n",
    "    if target ? nums[mid]:\n",
    "#       right = mid-1\n",
    "    else:\n",
    "#       left = mid+1\n",
    "return xxx\n",
    "```\n",
    "也就是这里的 if (array[mid] ? key) 中的判断符号，结合步骤1和给出的条件，如果是查找小于等于key的元素，则知道应该使用判断符号>=，因为是要返回left，所以如果array[mid]等于或者大于key，就应该使用>=，以下是完整代码\n",
    "```\n",
    "# 查找小于等于key的元素\n",
    "mid = int((left + right) / 2)\n",
    "if target <= nums[mid]:\n",
    "    right = mid - 1\n",
    "else:\n",
    "    left = mid + 1\n",
    "```"
   ]
  }
 ],
 "metadata": {
  "kernelspec": {
   "display_name": "Python 3",
   "language": "python",
   "name": "python3"
  },
  "language_info": {
   "codemirror_mode": {
    "name": "ipython",
    "version": 3
   },
   "file_extension": ".py",
   "mimetype": "text/x-python",
   "name": "python",
   "nbconvert_exporter": "python",
   "pygments_lexer": "ipython3",
   "version": "3.6.8"
  },
  "toc": {
   "base_numbering": 1,
   "nav_menu": {},
   "number_sections": true,
   "sideBar": true,
   "skip_h1_title": false,
   "title_cell": "Table of Contents",
   "title_sidebar": "Contents",
   "toc_cell": false,
   "toc_position": {},
   "toc_section_display": true,
   "toc_window_display": false
  },
  "varInspector": {
   "cols": {
    "lenName": 16,
    "lenType": 16,
    "lenVar": 40
   },
   "kernels_config": {
    "python": {
     "delete_cmd_postfix": "",
     "delete_cmd_prefix": "del ",
     "library": "var_list.py",
     "varRefreshCmd": "print(var_dic_list())"
    },
    "r": {
     "delete_cmd_postfix": ") ",
     "delete_cmd_prefix": "rm(",
     "library": "var_list.r",
     "varRefreshCmd": "cat(var_dic_list()) "
    }
   },
   "types_to_exclude": [
    "module",
    "function",
    "builtin_function_or_method",
    "instance",
    "_Feature"
   ],
   "window_display": false
  }
 },
 "nbformat": 4,
 "nbformat_minor": 2
}
