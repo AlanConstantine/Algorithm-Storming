{
 "cells": [
  {
   "cell_type": "markdown",
   "metadata": {},
   "source": [
    "# Note\n",
    "* 求一个问题最优解\n",
    "* 整体最优解依赖各个子问题的最优解\n",
    "* 小问题之间会有重叠的子问题\n",
    "* 从上往下分析问题，从下往上解决问题"
   ]
  },
  {
   "cell_type": "code",
   "execution_count": 1,
   "metadata": {
    "ExecuteTime": {
     "end_time": "2019-03-25T14:28:35.906977Z",
     "start_time": "2019-03-25T14:28:35.903608Z"
    }
   },
   "outputs": [],
   "source": [
    "import numpy as np"
   ]
  },
  {
   "cell_type": "markdown",
   "metadata": {},
   "source": [
    "# 求斐波拉契数列Fibonacci"
   ]
  },
  {
   "cell_type": "code",
   "execution_count": 2,
   "metadata": {
    "ExecuteTime": {
     "end_time": "2019-03-25T14:28:35.914631Z",
     "start_time": "2019-03-25T14:28:35.909990Z"
    }
   },
   "outputs": [],
   "source": [
    "def fib(n):\n",
    "    if n <= 0:\n",
    "        return 0\n",
    "    memo = [-1 for j in range(n)]\n",
    "    memo[0] = 0\n",
    "    memo[1] = 1\n",
    "    for i in range(2, n):\n",
    "        memo[i] = memo[i-1] + memo[i-2]\n",
    "    return memo[n-1]"
   ]
  },
  {
   "cell_type": "code",
   "execution_count": 3,
   "metadata": {
    "ExecuteTime": {
     "end_time": "2019-03-25T14:28:35.928951Z",
     "start_time": "2019-03-25T14:28:35.916886Z"
    }
   },
   "outputs": [
    {
     "data": {
      "text/plain": [
       "5"
      ]
     },
     "execution_count": 3,
     "metadata": {},
     "output_type": "execute_result"
    }
   ],
   "source": [
    "fib(6)"
   ]
  },
  {
   "cell_type": "markdown",
   "metadata": {},
   "source": [
    "# Algorithm Introduction: Steel Cut"
   ]
  },
  {
   "cell_type": "markdown",
   "metadata": {},
   "source": [
    "## 递归方法\n",
    "从左边开始切i英寸，以及仅考虑剩下右边的分解"
   ]
  },
  {
   "cell_type": "code",
   "execution_count": 4,
   "metadata": {
    "ExecuteTime": {
     "end_time": "2019-03-25T14:28:35.933961Z",
     "start_time": "2019-03-25T14:28:35.931299Z"
    }
   },
   "outputs": [],
   "source": [
    "p = [0, 1, 5, 8, 9, 10, 17, 17, 20, 24, 30]"
   ]
  },
  {
   "cell_type": "code",
   "execution_count": 5,
   "metadata": {
    "ExecuteTime": {
     "end_time": "2019-03-25T14:28:35.940853Z",
     "start_time": "2019-03-25T14:28:35.936551Z"
    }
   },
   "outputs": [],
   "source": [
    "def cut_rod(p, n):\n",
    "    \"\"\"p: 所切长度对应的收益，长度由数组下标表示，当下标为0时，即表示切0长度，收益也为0\"\"\"\n",
    "    \"\"\"n表示给定的总长度\"\"\"\n",
    "    if n == 0:\n",
    "        # 当n为0时，说明切完了，收益也为0\n",
    "        return 0\n",
    "    q = -1*np.inf\n",
    "    for i in range(1, n):\n",
    "        # 从左边开始依次切i长度，上限为给定的长度n，并和剩下右边的分解子问题进行比较，返回收益大的\n",
    "        q = max(q, p[i]+cut_rod(p, n-i))\n",
    "    return q"
   ]
  },
  {
   "cell_type": "code",
   "execution_count": 6,
   "metadata": {
    "ExecuteTime": {
     "end_time": "2019-03-25T14:28:35.946594Z",
     "start_time": "2019-03-25T14:28:35.943340Z"
    }
   },
   "outputs": [
    {
     "name": "stdout",
     "output_type": "stream",
     "text": [
      "-inf\n"
     ]
    }
   ],
   "source": [
    "print(cut_rod(p, 3))"
   ]
  },
  {
   "cell_type": "markdown",
   "metadata": {},
   "source": [
    "# Sword2Offer Interview14"
   ]
  },
  {
   "cell_type": "markdown",
   "metadata": {},
   "source": [
    "给你一根长度为n的绳子，请把绳子剪成m段（m，n都是整数，n>1 且 m>1），每段绳子的程度计为k[0], k[1], k[2], ..., k[m]。请问k[0]\\*k[1]\\*k[2]\\*...\\*k[m]的最大乘积为多少"
   ]
  },
  {
   "cell_type": "code",
   "execution_count": 7,
   "metadata": {
    "ExecuteTime": {
     "end_time": "2019-03-25T14:28:35.950929Z",
     "start_time": "2019-03-25T14:28:35.948605Z"
    }
   },
   "outputs": [],
   "source": [
    "def max_product_after_cutting():\n",
    "    pass"
   ]
  },
  {
   "cell_type": "markdown",
   "metadata": {},
   "source": [
    "# [递归与动态规划：基础例题分析](https://mp.weixin.qq.com/s/ao542rVu1hRtrd5_LmCqxg)"
   ]
  },
  {
   "cell_type": "markdown",
   "metadata": {},
   "source": [
    "## 一只青蛙一次可以跳上1级台阶，也可以跳上2级。求该青蛙跳上一个n级的台阶总共有多少种跳法\n",
    "* 递归方法分析：\n",
    "    * 第一步：确认目标函数\n",
    "        * 一共有n个台阶，跳上n级台阶的总数为f(n);\n",
    "        * 跳的过程中有两种跳法，第一种是只跳一级，，则剩下n-1级台阶没有跳，则对应f(n-1);\n",
    "        * 第二种是跳两级，则剩下n-2级没有跳，则对应f(n-2);\n",
    "        * 因此递归公式为f(n) = f(n-1) + f(n-2)。\n",
    "    * 第二步：找出递归结束调节\n",
    "        * 当n<=0时，跳法为0，即f(0) = 0;\n",
    "        * 当n=1时，跳法只有一种，只跳一级，即f(1) = 1;\n",
    "        * 当n=2时，跳法有两种，可以跳两级达到目的，或者分别跳一级，即f(2) = 2。\n",
    "    * 缺点在于会重复计算已经计算过的步数。\n",
    "* 动态规划求解\n",
    "    * 建立容器，储存已经计算过的步数；\n",
    "    * 每次计算时，先查询容器里的步数，有则取出，无则计算。"
   ]
  },
  {
   "cell_type": "code",
   "execution_count": 9,
   "metadata": {
    "ExecuteTime": {
     "end_time": "2019-04-20T15:11:45.251995Z",
     "start_time": "2019-04-20T15:11:45.247572Z"
    }
   },
   "outputs": [],
   "source": [
    "# 递归求解\n",
    "def jump_r(n):\n",
    "    if n <= 0:\n",
    "        return 0\n",
    "    if n == 1:\n",
    "        return 1\n",
    "    if n == 2:\n",
    "        return 2\n",
    "    else:\n",
    "        return jump(n-1) + jump(n-2)"
   ]
  },
  {
   "cell_type": "code",
   "execution_count": 10,
   "metadata": {
    "ExecuteTime": {
     "end_time": "2019-04-20T15:11:49.358650Z",
     "start_time": "2019-04-20T15:11:49.354296Z"
    }
   },
   "outputs": [
    {
     "data": {
      "text/plain": [
       "34"
      ]
     },
     "execution_count": 10,
     "metadata": {},
     "output_type": "execute_result"
    }
   ],
   "source": [
    "jump_r(8)"
   ]
  },
  {
   "cell_type": "code",
   "execution_count": 11,
   "metadata": {
    "ExecuteTime": {
     "end_time": "2019-04-20T15:11:58.169737Z",
     "start_time": "2019-04-20T15:11:58.165731Z"
    }
   },
   "outputs": [],
   "source": [
    "# 动态规划求解\n",
    "def jump_d(n, used_dict={}):\n",
    "    if n <= 0:\n",
    "        return 0\n",
    "    if n <= 2:\n",
    "        return n\n",
    "    else:\n",
    "        if n in used_dict:\n",
    "            return used_dict[n]\n",
    "        else:\n",
    "            m = jump_d(n-1) + jump_d(n-2)\n",
    "            used_dict[n] = m\n",
    "            return m"
   ]
  },
  {
   "cell_type": "code",
   "execution_count": 12,
   "metadata": {
    "ExecuteTime": {
     "end_time": "2019-04-20T15:11:58.658858Z",
     "start_time": "2019-04-20T15:11:58.654479Z"
    }
   },
   "outputs": [
    {
     "data": {
      "text/plain": [
       "34"
      ]
     },
     "execution_count": 12,
     "metadata": {},
     "output_type": "execute_result"
    }
   ],
   "source": [
    "jump_d(n=8)"
   ]
  },
  {
   "cell_type": "markdown",
   "metadata": {},
   "source": [
    "## 问题2： 一只青蛙一次可以跳上1级台阶，也可以跳上2级……它也可以跳上n级。 求该青蛙跳上一个n级的台阶总共有多少种跳法。\n",
    "* 分析：其实这道题和上面那道题一样的，只是本来每次跳有两种选择，现在有n中选择，即f(n) = f(n-1) + f(n - 2) + f(n-3)+.....+f(1);"
   ]
  },
  {
   "cell_type": "code",
   "execution_count": 13,
   "metadata": {
    "ExecuteTime": {
     "end_time": "2019-04-20T15:15:23.355517Z",
     "start_time": "2019-04-20T15:15:23.350540Z"
    }
   },
   "outputs": [],
   "source": [
    "# 动态规划求解\n",
    "def jump_d(n, used_dict={}):\n",
    "    if n <= 0:\n",
    "        return 0\n",
    "    if n <= 2:\n",
    "        return n\n",
    "    else:\n",
    "        if n in used_dict:\n",
    "            return used_dict[n]\n",
    "        else:\n",
    "            m=0\n",
    "            for i in range(1,n+1):\n",
    "                m+=jump_d(n-i)\n",
    "            used_dict[n] = m\n",
    "            return m"
   ]
  },
  {
   "cell_type": "code",
   "execution_count": 15,
   "metadata": {
    "ExecuteTime": {
     "end_time": "2019-04-20T15:16:33.746105Z",
     "start_time": "2019-04-20T15:16:33.741203Z"
    }
   },
   "outputs": [
    {
     "data": {
      "text/plain": [
       "96"
      ]
     },
     "execution_count": 15,
     "metadata": {},
     "output_type": "execute_result"
    }
   ],
   "source": [
    "jump_d(8)"
   ]
  },
  {
   "cell_type": "markdown",
   "metadata": {},
   "source": [
    "## 数字三角形案例\n",
    "\n",
    "```\n",
    "题目描述 Description\n",
    "\n",
    "下图给出了一个数字三角形，请编写一个程序，\n",
    "计算从顶至底的某处的一条路径，\n",
    "使该路径所经过的数字的总和最大。 \n",
    "注意：每一步可沿左斜线向下或右斜线向下 \n",
    "\n",
    "输入描述：\n",
    "第1行是输入整数\n",
    "（如果该整数是0,就表示结束，不需要再处理），\n",
    "表示三角形行数n，然后是n行数\n",
    "样例输入： \n",
    "5\n",
    "7\n",
    "3 8\n",
    "8 1 0\n",
    "2 7 4 4\n",
    "4 5 2 6 5\n",
    "```\n",
    "![](https://mmbiz.qpic.cn/mmbiz_png/gsQM61GSzIPW7XLeKqxC52b91Ar7C8eaWBUuXk0e9aNF82f0ZFTe38kJXpsxSuZHwx4JVIicic8XnN1IuMJGiaCIg/640?wx_fmt=gif&tp=webp&wxfrom=5&wx_lazy=1&wx_co=1)\n",
    "    \n",
    "```\n",
    "    1. 用D(i,j)这个二维数组来记录这个数字三角形，r表示第r行，c表示第c列，D(r,c)表示第r行c列这个点的值\n",
    "    2. MaxSum(r, c) : 从D(r, c)到底边的各条路径中，最佳路径的数字之和(动态规划记录状态会用到)\n",
    "    3. state(r, c):用来记录D(r, c)这个点是否计算过，如果还没有计算过，则state(r, c) = -2,否则state(r, c) = MaxSum(r, c).\n",
    "```\n",
    "\n",
    "* 递归\n",
    "    * 找出函数关系\n",
    "        * MaxSum(r, c) = Max(MaxSum(r+1, c), MaxSum(r+1, c+1)) + D(r, c)\n",
    "    * 递归结束条件\n",
    "        * r = n-1\n",
    "        * 因为r从0开始计数"
   ]
  },
  {
   "cell_type": "code",
   "execution_count": 16,
   "metadata": {
    "ExecuteTime": {
     "end_time": "2019-04-20T15:29:58.391926Z",
     "start_time": "2019-04-20T15:29:58.387891Z"
    }
   },
   "outputs": [],
   "source": [
    "# 输入\n",
    "n = 5\n",
    "D = [[7],\n",
    "     [3, 8],\n",
    "     [8, 1, 0],\n",
    "     [2, 7, 4, 4],\n",
    "     [4, 5, 2, 6, 5]]"
   ]
  },
  {
   "cell_type": "code",
   "execution_count": 18,
   "metadata": {
    "ExecuteTime": {
     "end_time": "2019-04-20T15:50:43.731999Z",
     "start_time": "2019-04-20T15:50:43.727348Z"
    }
   },
   "outputs": [],
   "source": [
    "# 递归求解\n",
    "def MaxSum(r, c):\n",
    "    if r == n-1:\n",
    "        return D[r][c] # 最底层，把该点的路径值返回\n",
    "    left = MaxSum(r+1, c) # 计算左向下走时的最优路径\n",
    "    right = MaxSum(r+1, c+1) # 计算右向下走时的最优路径\n",
    "    return max(left,right)+D[r][c]"
   ]
  },
  {
   "cell_type": "code",
   "execution_count": 19,
   "metadata": {
    "ExecuteTime": {
     "end_time": "2019-04-20T15:50:55.814795Z",
     "start_time": "2019-04-20T15:50:55.810060Z"
    }
   },
   "outputs": [
    {
     "data": {
      "text/plain": [
       "30"
      ]
     },
     "execution_count": 19,
     "metadata": {},
     "output_type": "execute_result"
    }
   ],
   "source": [
    "MaxSum(0, 0)"
   ]
  },
  {
   "cell_type": "code",
   "execution_count": 29,
   "metadata": {
    "ExecuteTime": {
     "end_time": "2019-04-20T15:58:20.976654Z",
     "start_time": "2019-04-20T15:58:20.971437Z"
    }
   },
   "outputs": [],
   "source": [
    "# 动态求解\n",
    "def MaxSum(r, c, State=[[-2 for c in r] for r in D]):\n",
    "    if r == n-1:\n",
    "        return D[r][c]  # 最底层，把该点的路径值返回\n",
    "    if State[r][c] != -2:\n",
    "        return State[r][c]\n",
    "    else:\n",
    "        left = MaxSum(r+1, c)  # 计算左向下走时的最优路径\n",
    "        right = MaxSum(r+1, c+1)  # 计算右向下走时的最优路径\n",
    "        State[r][c] = max(left, right)+D[r][c]  # 进行保存\n",
    "        return State[r][c]"
   ]
  },
  {
   "cell_type": "code",
   "execution_count": 30,
   "metadata": {
    "ExecuteTime": {
     "end_time": "2019-04-20T15:58:21.573966Z",
     "start_time": "2019-04-20T15:58:21.569394Z"
    }
   },
   "outputs": [
    {
     "data": {
      "text/plain": [
       "30"
      ]
     },
     "execution_count": 30,
     "metadata": {},
     "output_type": "execute_result"
    }
   ],
   "source": [
    "MaxSum(0, 0)"
   ]
  },
  {
   "cell_type": "code",
   "execution_count": null,
   "metadata": {},
   "outputs": [],
   "source": []
  }
 ],
 "metadata": {
  "kernelspec": {
   "display_name": "Python 3",
   "language": "python",
   "name": "python3"
  },
  "language_info": {
   "codemirror_mode": {
    "name": "ipython",
    "version": 3
   },
   "file_extension": ".py",
   "mimetype": "text/x-python",
   "name": "python",
   "nbconvert_exporter": "python",
   "pygments_lexer": "ipython3",
   "version": "3.6.2"
  },
  "toc": {
   "base_numbering": 1,
   "nav_menu": {},
   "number_sections": true,
   "sideBar": true,
   "skip_h1_title": false,
   "title_cell": "Table of Contents",
   "title_sidebar": "Contents",
   "toc_cell": false,
   "toc_position": {},
   "toc_section_display": true,
   "toc_window_display": false
  },
  "varInspector": {
   "cols": {
    "lenName": 16,
    "lenType": 16,
    "lenVar": 40
   },
   "kernels_config": {
    "python": {
     "delete_cmd_postfix": "",
     "delete_cmd_prefix": "del ",
     "library": "var_list.py",
     "varRefreshCmd": "print(var_dic_list())"
    },
    "r": {
     "delete_cmd_postfix": ") ",
     "delete_cmd_prefix": "rm(",
     "library": "var_list.r",
     "varRefreshCmd": "cat(var_dic_list()) "
    }
   },
   "types_to_exclude": [
    "module",
    "function",
    "builtin_function_or_method",
    "instance",
    "_Feature"
   ],
   "window_display": false
  }
 },
 "nbformat": 4,
 "nbformat_minor": 2
}
