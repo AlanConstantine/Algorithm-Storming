{
 "cells": [
  {
   "cell_type": "markdown",
   "metadata": {},
   "source": [
    "# 有序字典实现"
   ]
  },
  {
   "cell_type": "code",
   "execution_count": 1,
   "metadata": {
    "ExecuteTime": {
     "end_time": "2019-04-01T15:35:17.031560Z",
     "start_time": "2019-04-01T15:35:17.019994Z"
    }
   },
   "outputs": [],
   "source": [
    "import collections\n",
    "\n",
    "g = collections.OrderedDict()\n",
    "g['A'] = ['B', 'C', 'D']\n",
    "g['B'] = ['A', 'E']\n",
    "g['C'] = ['A', 'F']\n",
    "g['D'] = ['A', 'G', 'H']\n",
    "g['E'] = ['B', 'F']\n",
    "g['F'] = ['E', 'C']\n",
    "g['G'] = ['D', 'H', 'I']\n",
    "g['H'] = ['G', 'D']\n",
    "g['I'] = ['G']"
   ]
  },
  {
   "cell_type": "code",
   "execution_count": 2,
   "metadata": {
    "ExecuteTime": {
     "end_time": "2019-04-01T16:13:26.177265Z",
     "start_time": "2019-04-01T16:13:26.164892Z"
    }
   },
   "outputs": [],
   "source": [
    "def DFS_dict(g):\n",
    "    visited_dict = {}\n",
    "    # 设定一个字典，用来记录已经访问的节点\n",
    "\n",
    "    def dfs(v):\n",
    "        print(v)  # do something\n",
    "        visited_dict[v] = True\n",
    "        # 将访问的点存入visited_dict中，标记已经访问，然后继续遍历这个节点所连接的其他节点\n",
    "        for sub_v in g[v]:\n",
    "            # 在遍历节点过程中，利用visited_dict判断遍历的节点是否已经被访问过了\n",
    "            if not visited_dict.get(sub_v):\n",
    "                # 若没被访问过，则进入下一次递归\n",
    "                dfs(sub_v)\n",
    "    for k in g:\n",
    "        if not visited_dict.get(k):\n",
    "            dfs(k)"
   ]
  },
  {
   "cell_type": "code",
   "execution_count": 3,
   "metadata": {
    "ExecuteTime": {
     "end_time": "2019-04-01T16:13:33.836252Z",
     "start_time": "2019-04-01T16:13:33.828031Z"
    }
   },
   "outputs": [
    {
     "name": "stdout",
     "output_type": "stream",
     "text": [
      "A\n",
      "B\n",
      "E\n",
      "F\n",
      "C\n",
      "D\n",
      "G\n",
      "H\n",
      "I\n"
     ]
    }
   ],
   "source": [
    "DFS_dict(g)"
   ]
  },
  {
   "cell_type": "markdown",
   "metadata": {},
   "source": [
    "# 图的实现"
   ]
  },
  {
   "cell_type": "code",
   "execution_count": 5,
   "metadata": {
    "ExecuteTime": {
     "end_time": "2019-04-01T16:20:44.926199Z",
     "start_time": "2019-04-01T16:20:44.915100Z"
    }
   },
   "outputs": [],
   "source": [
    "class Node():\n",
    "    \"\"\"docstring for ClassName\"\"\"\n",
    "\n",
    "    def __init__(self, val):\n",
    "        # super(ClassName, self).__init__()\n",
    "        self.val = val\n",
    "        self.next = []"
   ]
  },
  {
   "cell_type": "code",
   "execution_count": 6,
   "metadata": {
    "ExecuteTime": {
     "end_time": "2019-04-01T16:24:56.281994Z",
     "start_time": "2019-04-01T16:24:56.265342Z"
    }
   },
   "outputs": [],
   "source": [
    "a = Node('A')\n",
    "b = Node('B')\n",
    "c = Node('C')\n",
    "d = Node('D')\n",
    "e = Node('E')\n",
    "f = Node('F')\n",
    "g = Node('G')\n",
    "h = Node('H')\n",
    "i = Node('I')\n",
    "a.next = [b, c, d]\n",
    "b.next = [a, e]\n",
    "c.next = [a, f]\n",
    "d.next = [a, g, h]\n",
    "e.next = [b, f]\n",
    "f.next = [e, c]\n",
    "g.next = [d, h, i]\n",
    "h.next = [g, d]\n",
    "i.next = [g]"
   ]
  },
  {
   "cell_type": "code",
   "execution_count": 11,
   "metadata": {
    "ExecuteTime": {
     "end_time": "2019-04-01T16:29:28.400821Z",
     "start_time": "2019-04-01T16:29:28.385477Z"
    }
   },
   "outputs": [],
   "source": [
    "def DFS_graph(n):\n",
    "    visited_dict = {}\n",
    "    print(n.val)\n",
    "    visited_dict[n] = True\n",
    "\n",
    "    def dfs(next_node):\n",
    "        print(next_node.val)\n",
    "        visited_dict[next_node] = True\n",
    "        for s_next_node in next_node.next:\n",
    "            if not visited_dict.get(s_next_node):\n",
    "                dfs(s_next_node)\n",
    "\n",
    "    for next_node in n.next:\n",
    "        if not visited_dict.get(next_node):\n",
    "            dfs(next_node)"
   ]
  },
  {
   "cell_type": "code",
   "execution_count": 12,
   "metadata": {
    "ExecuteTime": {
     "end_time": "2019-04-01T16:29:30.356351Z",
     "start_time": "2019-04-01T16:29:30.346669Z"
    }
   },
   "outputs": [
    {
     "name": "stdout",
     "output_type": "stream",
     "text": [
      "A\n",
      "B\n",
      "E\n",
      "F\n",
      "C\n",
      "D\n",
      "G\n",
      "H\n",
      "I\n"
     ]
    }
   ],
   "source": [
    "DFS_graph(a)"
   ]
  }
 ],
 "metadata": {
  "kernelspec": {
   "display_name": "Python 3",
   "language": "python",
   "name": "python3"
  },
  "language_info": {
   "codemirror_mode": {
    "name": "ipython",
    "version": 3
   },
   "file_extension": ".py",
   "mimetype": "text/x-python",
   "name": "python",
   "nbconvert_exporter": "python",
   "pygments_lexer": "ipython3",
   "version": "3.6.8"
  },
  "toc": {
   "base_numbering": 1,
   "nav_menu": {},
   "number_sections": true,
   "sideBar": true,
   "skip_h1_title": false,
   "title_cell": "Table of Contents",
   "title_sidebar": "Contents",
   "toc_cell": false,
   "toc_position": {},
   "toc_section_display": true,
   "toc_window_display": false
  },
  "varInspector": {
   "cols": {
    "lenName": 16,
    "lenType": 16,
    "lenVar": 40
   },
   "kernels_config": {
    "python": {
     "delete_cmd_postfix": "",
     "delete_cmd_prefix": "del ",
     "library": "var_list.py",
     "varRefreshCmd": "print(var_dic_list())"
    },
    "r": {
     "delete_cmd_postfix": ") ",
     "delete_cmd_prefix": "rm(",
     "library": "var_list.r",
     "varRefreshCmd": "cat(var_dic_list()) "
    }
   },
   "types_to_exclude": [
    "module",
    "function",
    "builtin_function_or_method",
    "instance",
    "_Feature"
   ],
   "window_display": false
  }
 },
 "nbformat": 4,
 "nbformat_minor": 2
}
