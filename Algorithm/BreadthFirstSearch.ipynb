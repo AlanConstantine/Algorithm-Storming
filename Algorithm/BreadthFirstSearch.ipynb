{
 "cells": [
  {
   "cell_type": "code",
   "execution_count": 1,
   "metadata": {
    "ExecuteTime": {
     "end_time": "2019-04-02T02:01:47.547799Z",
     "start_time": "2019-04-02T02:01:47.533751Z"
    }
   },
   "outputs": [],
   "source": [
    "import collections\n",
    "import queue\n",
    "\n",
    "g = collections.OrderedDict()\n",
    "g['A'] = ['B', 'C', 'D']\n",
    "g['B'] = ['A', 'E']\n",
    "g['C'] = ['A', 'F']\n",
    "g['D'] = ['A', 'G', 'H']\n",
    "g['E'] = ['B', 'F']\n",
    "g['F'] = ['E', 'C']\n",
    "g['G'] = ['D', 'H', 'I']\n",
    "g['H'] = ['G', 'D']\n",
    "g['I'] = ['G']"
   ]
  },
  {
   "cell_type": "code",
   "execution_count": 2,
   "metadata": {
    "ExecuteTime": {
     "end_time": "2019-04-02T02:04:57.121414Z",
     "start_time": "2019-04-02T02:04:57.106938Z"
    }
   },
   "outputs": [],
   "source": [
    "def bfs_dict(g):\n",
    "    visited_dict = {}\n",
    "    q = queue.Queue()\n",
    "\n",
    "    for k in g:\n",
    "        if not visited_dict.get(k):\n",
    "            print(k)\n",
    "            visited_dict[k] = True\n",
    "            q.put(k)\n",
    "\n",
    "    while not q.empty():\n",
    "        v = q.get()\n",
    "\n",
    "        for sub_v in g[v]:\n",
    "            if not visited_dict.get(sub_v):\n",
    "                print(sub_v)\n",
    "                visited_dict[sub_v] = True\n",
    "                q.put(sub_v)"
   ]
  },
  {
   "cell_type": "code",
   "execution_count": 3,
   "metadata": {
    "ExecuteTime": {
     "end_time": "2019-04-02T02:04:58.974659Z",
     "start_time": "2019-04-02T02:04:58.967118Z"
    }
   },
   "outputs": [
    {
     "name": "stdout",
     "output_type": "stream",
     "text": [
      "A\n",
      "B\n",
      "C\n",
      "D\n",
      "E\n",
      "F\n",
      "G\n",
      "H\n",
      "I\n"
     ]
    }
   ],
   "source": [
    "bfs_dict(g)"
   ]
  },
  {
   "cell_type": "code",
   "execution_count": null,
   "metadata": {},
   "outputs": [],
   "source": []
  }
 ],
 "metadata": {
  "kernelspec": {
   "display_name": "Python 3",
   "language": "python",
   "name": "python3"
  },
  "language_info": {
   "codemirror_mode": {
    "name": "ipython",
    "version": 3
   },
   "file_extension": ".py",
   "mimetype": "text/x-python",
   "name": "python",
   "nbconvert_exporter": "python",
   "pygments_lexer": "ipython3",
   "version": "3.6.8"
  },
  "toc": {
   "base_numbering": 1,
   "nav_menu": {},
   "number_sections": true,
   "sideBar": true,
   "skip_h1_title": false,
   "title_cell": "Table of Contents",
   "title_sidebar": "Contents",
   "toc_cell": false,
   "toc_position": {},
   "toc_section_display": true,
   "toc_window_display": false
  },
  "varInspector": {
   "cols": {
    "lenName": 16,
    "lenType": 16,
    "lenVar": 40
   },
   "kernels_config": {
    "python": {
     "delete_cmd_postfix": "",
     "delete_cmd_prefix": "del ",
     "library": "var_list.py",
     "varRefreshCmd": "print(var_dic_list())"
    },
    "r": {
     "delete_cmd_postfix": ") ",
     "delete_cmd_prefix": "rm(",
     "library": "var_list.r",
     "varRefreshCmd": "cat(var_dic_list()) "
    }
   },
   "types_to_exclude": [
    "module",
    "function",
    "builtin_function_or_method",
    "instance",
    "_Feature"
   ],
   "window_display": false
  }
 },
 "nbformat": 4,
 "nbformat_minor": 2
}
