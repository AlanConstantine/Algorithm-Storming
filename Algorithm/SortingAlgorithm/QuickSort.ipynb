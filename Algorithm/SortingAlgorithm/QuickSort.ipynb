{
 "cells": [
  {
   "cell_type": "code",
   "execution_count": 8,
   "metadata": {
    "ExecuteTime": {
     "end_time": "2019-03-13T12:43:24.007558Z",
     "start_time": "2019-03-13T12:43:23.999059Z"
    }
   },
   "outputs": [],
   "source": [
    "nums = [6, 4, 3, 7, 5, 1, 2]"
   ]
  },
  {
   "cell_type": "code",
   "execution_count": 13,
   "metadata": {
    "ExecuteTime": {
     "end_time": "2019-03-13T12:44:38.370708Z",
     "start_time": "2019-03-13T12:44:38.355138Z"
    }
   },
   "outputs": [],
   "source": [
    "class QuickSort():\n",
    "    def sort(self, nums):\n",
    "        # 初始分区为整个数组\n",
    "        return self.recursive(nums, 0, len(nums)-1)\n",
    "\n",
    "    def recursive(self, nums, left, right):\n",
    "        if left < right:\n",
    "            pivot_index = self.partition(nums, left, right)\n",
    "            # 分区划分\n",
    "            self.recursive(nums, left, pivot_index-1)\n",
    "            self.recursive(nums, pivot_index+1, right)\n",
    "        return nums\n",
    "\n",
    "    def partition(self, nums, left, right):\n",
    "        pivot = left\n",
    "        index = left+1\n",
    "        for i in range(index, right+1):\n",
    "            # 左下标开始向右移动\n",
    "            if nums[i] < nums[pivot]:\n",
    "                nums[index], nums[i] = nums[i], nums[index]\n",
    "                index += 1\n",
    "        nums[index-1], nums[pivot] = nums[pivot], nums[index-1]\n",
    "        return index-1"
   ]
  },
  {
   "cell_type": "code",
   "execution_count": 14,
   "metadata": {
    "ExecuteTime": {
     "end_time": "2019-03-13T12:44:38.652920Z",
     "start_time": "2019-03-13T12:44:38.643425Z"
    }
   },
   "outputs": [
    {
     "name": "stdout",
     "output_type": "stream",
     "text": [
      "[1, 2, 3, 4, 5, 6, 7]\n"
     ]
    }
   ],
   "source": [
    "q = QuickSort()\n",
    "print(q.sort(nums))"
   ]
  }
 ],
 "metadata": {
  "kernelspec": {
   "display_name": "Python 3",
   "language": "python",
   "name": "python3"
  },
  "language_info": {
   "codemirror_mode": {
    "name": "ipython",
    "version": 3
   },
   "file_extension": ".py",
   "mimetype": "text/x-python",
   "name": "python",
   "nbconvert_exporter": "python",
   "pygments_lexer": "ipython3",
   "version": "3.6.8"
  },
  "toc": {
   "base_numbering": 1,
   "nav_menu": {},
   "number_sections": true,
   "sideBar": true,
   "skip_h1_title": false,
   "title_cell": "Table of Contents",
   "title_sidebar": "Contents",
   "toc_cell": false,
   "toc_position": {},
   "toc_section_display": true,
   "toc_window_display": false
  },
  "varInspector": {
   "cols": {
    "lenName": 16,
    "lenType": 16,
    "lenVar": 40
   },
   "kernels_config": {
    "python": {
     "delete_cmd_postfix": "",
     "delete_cmd_prefix": "del ",
     "library": "var_list.py",
     "varRefreshCmd": "print(var_dic_list())"
    },
    "r": {
     "delete_cmd_postfix": ") ",
     "delete_cmd_prefix": "rm(",
     "library": "var_list.r",
     "varRefreshCmd": "cat(var_dic_list()) "
    }
   },
   "types_to_exclude": [
    "module",
    "function",
    "builtin_function_or_method",
    "instance",
    "_Feature"
   ],
   "window_display": false
  }
 },
 "nbformat": 4,
 "nbformat_minor": 2
}
