{
 "cells": [
  {
   "cell_type": "code",
   "execution_count": 8,
   "metadata": {
    "ExecuteTime": {
     "end_time": "2019-03-13T12:43:24.007558Z",
     "start_time": "2019-03-13T12:43:23.999059Z"
    }
   },
   "outputs": [],
   "source": [
    "nums = [6, 4, 3, 7, 5, 1, 2]"
   ]
  },
  {
   "cell_type": "code",
   "execution_count": 13,
   "metadata": {
    "ExecuteTime": {
     "end_time": "2019-03-13T12:44:38.370708Z",
     "start_time": "2019-03-13T12:44:38.355138Z"
    }
   },
   "outputs": [],
   "source": [
    "class QuickSort():\n",
    "    def sort(self, nums):\n",
    "        # 初始分区为整个数组\n",
    "        return self.recursive(nums, 0, len(nums)-1)\n",
    "\n",
    "    def recursive(self, nums, left, right):\n",
    "        if left < right:\n",
    "            pivot_index = self.partition(nums, left, right)\n",
    "            # 分区划分\n",
    "            self.recursive(nums, left, pivot_index-1)\n",
    "            self.recursive(nums, pivot_index+1, right)\n",
    "        return nums\n",
    "\n",
    "    def partition(self, nums, left, right):\n",
    "        pivot = left\n",
    "        index = left+1\n",
    "        for i in range(index, right+1):\n",
    "            # 左下标开始向右移动\n",
    "            if nums[i] < nums[pivot]:\n",
    "                nums[index], nums[i] = nums[i], nums[index]\n",
    "                index += 1\n",
    "        nums[index-1], nums[pivot] = nums[pivot], nums[index-1]\n",
    "        return index-1"
   ]
  },
  {
   "cell_type": "code",
   "execution_count": 14,
   "metadata": {
    "ExecuteTime": {
     "end_time": "2019-03-13T12:44:38.652920Z",
     "start_time": "2019-03-13T12:44:38.643425Z"
    }
   },
   "outputs": [
    {
     "name": "stdout",
     "output_type": "stream",
     "text": [
      "[1, 2, 3, 4, 5, 6, 7]\n"
     ]
    }
   ],
   "source": [
    "q = QuickSort()\n",
    "print(q.sort(nums))"
   ]
  },
  {
   "cell_type": "code",
   "execution_count": 11,
   "metadata": {
    "ExecuteTime": {
     "end_time": "2019-03-16T13:08:13.229532Z",
     "start_time": "2019-03-16T13:08:13.207116Z"
    }
   },
   "outputs": [
    {
     "data": {
      "text/plain": [
       "[6, 42, 48, 57, 60, 72, 73, 83, 85, 88]"
      ]
     },
     "execution_count": 11,
     "metadata": {},
     "output_type": "execute_result"
    }
   ],
   "source": [
    "# 挖坑填数\n",
    "# 将第一个数作为基准数，并将比基准数大的放到右侧，小的放到左侧，最后基准放到中间\n",
    "nums = [72, 6, 57, 88, 60, 42, 83, 73, 48, 85]\n",
    "\n",
    "\n",
    "def adjust_array(nums, l, r):\n",
    "    pivot = nums[l]  # 定义基准为左数第一个数字\n",
    "    while r > l:\n",
    "        while r > l and nums[r] >= pivot:\n",
    "            # 右指针先从右往左开始扫，遇到第一个小于或等于基准，挑出循环，此刻r记录的就是第一个大于基准的数的下标\n",
    "            r -= 1\n",
    "        if r > l:\n",
    "            nums[l] = nums[r]\n",
    "            # 将大于基准的数放到左指针指向的数\n",
    "            l += 1\n",
    "        while r > l and nums[l] <= pivot:\n",
    "            # 当右指针完成后，左指针才开始向右扫，遇到第一个大于基准的数\n",
    "            l += 1\n",
    "        if r > l:\n",
    "            nums[r] = nums[l]\n",
    "            r -= 1\n",
    "    nums[r] = pivot  # 最后将基准数放到r==l的位置上\n",
    "    return r  # 返回基准数位置\n",
    "\n",
    "\n",
    "def partition(nums, l, r):\n",
    "    # 分支法\n",
    "    if r > l:\n",
    "        # 跳出递归的方法是当分治法的分区长度为1时，即r==l\n",
    "        pivot = adjust_array(nums, l, r)\n",
    "        partition(nums, l, pivot)\n",
    "        partition(nums, pivot+1, r)\n",
    "    return nums\n",
    "\n",
    "\n",
    "def quick_sort(nums):\n",
    "    return partition(nums, 0, len(nums)-1)\n",
    "\n",
    "\n",
    "quick_sort(nums)"
   ]
  },
  {
   "cell_type": "code",
   "execution_count": 6,
   "metadata": {
    "ExecuteTime": {
     "end_time": "2019-03-16T14:32:35.241131Z",
     "start_time": "2019-03-16T14:32:35.215100Z"
    }
   },
   "outputs": [
    {
     "data": {
      "text/plain": [
       "[48, 6, 57, 60, 42, 72, 83, 73, 88, 85]"
      ]
     },
     "execution_count": 6,
     "metadata": {},
     "output_type": "execute_result"
    }
   ],
   "source": [
    "nums = [72, 6, 57, 88, 60, 42, 83, 73, 48, 85]\n",
    "# 快慢指针实现：从左往右扫，快指针先识别出小于基准数的下标，\n",
    "# 然后将这个数和慢指针（慢指针初始为基准的下一位）的进行位置互换，\n",
    "# 互换结束后慢指针向左进一位\n",
    "\n",
    "\n",
    "def adjust_array(nums, left, right):\n",
    "    povit = left\n",
    "    index = left+1  # 慢指针\n",
    "    for i in range(index, right+1):\n",
    "        # i为快指针\n",
    "        if nums[i] <= nums[povit]:\n",
    "            # 当遇到的数小于基准数的时候，将这个数和慢指针进行互换，同时慢指针左移一位\n",
    "            nums[index], nums[i] = nums[i], nums[index]\n",
    "            index += 1\n",
    "    # 最终由于index作为慢指针多移动了一位，因此将基准换到中间的时候需要减去一位\n",
    "    nums[povit], nums[index-1] = nums[index-1], nums[povit]\n",
    "    return nums\n",
    "\n",
    "\n",
    "#     return index-1\n",
    "adjust_array(nums, 0, len(nums)-1)"
   ]
  },
  {
   "cell_type": "code",
   "execution_count": null,
   "metadata": {},
   "outputs": [],
   "source": []
  }
 ],
 "metadata": {
  "kernelspec": {
   "display_name": "Python 3",
   "language": "python",
   "name": "python3"
  },
  "language_info": {
   "codemirror_mode": {
    "name": "ipython",
    "version": 3
   },
   "file_extension": ".py",
   "mimetype": "text/x-python",
   "name": "python",
   "nbconvert_exporter": "python",
   "pygments_lexer": "ipython3",
   "version": "3.6.8"
  },
  "toc": {
   "base_numbering": 1,
   "nav_menu": {},
   "number_sections": true,
   "sideBar": true,
   "skip_h1_title": false,
   "title_cell": "Table of Contents",
   "title_sidebar": "Contents",
   "toc_cell": false,
   "toc_position": {},
   "toc_section_display": true,
   "toc_window_display": false
  },
  "varInspector": {
   "cols": {
    "lenName": 16,
    "lenType": 16,
    "lenVar": 40
   },
   "kernels_config": {
    "python": {
     "delete_cmd_postfix": "",
     "delete_cmd_prefix": "del ",
     "library": "var_list.py",
     "varRefreshCmd": "print(var_dic_list())"
    },
    "r": {
     "delete_cmd_postfix": ") ",
     "delete_cmd_prefix": "rm(",
     "library": "var_list.r",
     "varRefreshCmd": "cat(var_dic_list()) "
    }
   },
   "types_to_exclude": [
    "module",
    "function",
    "builtin_function_or_method",
    "instance",
    "_Feature"
   ],
   "window_display": false
  }
 },
 "nbformat": 4,
 "nbformat_minor": 2
}
