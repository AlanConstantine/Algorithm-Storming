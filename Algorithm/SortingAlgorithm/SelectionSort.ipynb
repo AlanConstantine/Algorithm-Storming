{
 "cells": [
  {
   "cell_type": "code",
   "execution_count": 7,
   "metadata": {
    "ExecuteTime": {
     "end_time": "2019-01-05T05:17:00.294848Z",
     "start_time": "2019-01-05T05:17:00.280869Z"
    }
   },
   "outputs": [],
   "source": [
    "# Time complexity: O(n^2)\n",
    "# Space complexity: O(1)\n",
    "# Stability: Unstable\n",
    "\n",
    "\n",
    "def selectionSort(arr):\n",
    "    for i in range(0, len(arr)-1):\n",
    "        min_ = i\n",
    "        for j in range(i+1, len(arr)-1):\n",
    "            if arr[i] > arr[j]:\n",
    "                min_ = j\n",
    "        if min_ != i:\n",
    "            tmp = arr[i]\n",
    "            arr[i] = arr[min_]\n",
    "            arr[min_] = tmp\n",
    "    return arr"
   ]
  },
  {
   "cell_type": "code",
   "execution_count": 8,
   "metadata": {
    "ExecuteTime": {
     "end_time": "2019-01-05T05:17:01.365043Z",
     "start_time": "2019-01-05T05:17:01.358694Z"
    }
   },
   "outputs": [],
   "source": [
    "arr = [2, 3, 1, 4, 6, 3, 5]"
   ]
  },
  {
   "cell_type": "code",
   "execution_count": 9,
   "metadata": {
    "ExecuteTime": {
     "end_time": "2019-01-05T05:17:01.887475Z",
     "start_time": "2019-01-05T05:17:01.879390Z"
    }
   },
   "outputs": [
    {
     "name": "stdout",
     "output_type": "stream",
     "text": [
      "[1, 2, 3, 3, 4, 6, 5]\n"
     ]
    }
   ],
   "source": [
    "print(selectionSort(arr))"
   ]
  },
  {
   "cell_type": "code",
   "execution_count": null,
   "metadata": {},
   "outputs": [],
   "source": []
  }
 ],
 "metadata": {
  "kernelspec": {
   "display_name": "Python 3",
   "language": "python",
   "name": "python3"
  },
  "language_info": {
   "codemirror_mode": {
    "name": "ipython",
    "version": 3
   },
   "file_extension": ".py",
   "mimetype": "text/x-python",
   "name": "python",
   "nbconvert_exporter": "python",
   "pygments_lexer": "ipython3",
   "version": "3.5.2"
  },
  "toc": {
   "base_numbering": 1,
   "nav_menu": {},
   "number_sections": true,
   "sideBar": true,
   "skip_h1_title": false,
   "title_cell": "Table of Contents",
   "title_sidebar": "Contents",
   "toc_cell": false,
   "toc_position": {},
   "toc_section_display": true,
   "toc_window_display": false
  },
  "varInspector": {
   "cols": {
    "lenName": 16,
    "lenType": 16,
    "lenVar": 40
   },
   "kernels_config": {
    "python": {
     "delete_cmd_postfix": "",
     "delete_cmd_prefix": "del ",
     "library": "var_list.py",
     "varRefreshCmd": "print(var_dic_list())"
    },
    "r": {
     "delete_cmd_postfix": ") ",
     "delete_cmd_prefix": "rm(",
     "library": "var_list.r",
     "varRefreshCmd": "cat(var_dic_list()) "
    }
   },
   "types_to_exclude": [
    "module",
    "function",
    "builtin_function_or_method",
    "instance",
    "_Feature"
   ],
   "window_display": false
  }
 },
 "nbformat": 4,
 "nbformat_minor": 2
}
