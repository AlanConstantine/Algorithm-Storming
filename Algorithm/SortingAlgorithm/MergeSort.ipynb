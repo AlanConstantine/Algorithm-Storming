{
 "cells": [
  {
   "cell_type": "code",
   "execution_count": 37,
   "metadata": {
    "ExecuteTime": {
     "end_time": "2019-03-13T09:13:10.393355Z",
     "start_time": "2019-03-13T09:13:10.384598Z"
    }
   },
   "outputs": [],
   "source": [
    "nums = [6, 4, 3, 7, 5, 1, 2]"
   ]
  },
  {
   "cell_type": "code",
   "execution_count": 38,
   "metadata": {
    "ExecuteTime": {
     "end_time": "2019-03-13T09:13:10.940807Z",
     "start_time": "2019-03-13T09:13:10.926044Z"
    }
   },
   "outputs": [],
   "source": [
    "class MergeSort():\n",
    "    def sort(self, nums):\n",
    "        if len(nums) < 2:\n",
    "            return nums\n",
    "        mid = int(len(nums)/2)\n",
    "        left = nums[:mid]\n",
    "        right = nums[mid:]\n",
    "        return self.merge(self.sort(left), self.sort(right))\n",
    "\n",
    "    def merge(self, left, right):\n",
    "        merge_list = [0 for i in range(len(left)+len(right))]\n",
    "        # 申请新的空间，长度是两个子数组的长度之和\n",
    "        i = 0\n",
    "        while len(left) > 0 and len(right) > 0:\n",
    "            # 创建新空间的指针，在每个指针上对边两个子数组的第一位[0]的值\n",
    "            if left[0] <= right[0]:\n",
    "                merge_list[i] = left[0]\n",
    "                left = left[1:]\n",
    "                i += 1\n",
    "            else:\n",
    "                merge_list[i] = right[0]\n",
    "                right = right[1:]\n",
    "                i += 1\n",
    "            # 每次对比结束后，指针进一位，被取出写如新空间的那个子数组删除第一个元素\n",
    "            \n",
    "        # 考虑到两个子数组长度不同，将剩下的元素依次写入新空间，\n",
    "        # 由于上一次循环条件是len(left) > 0 and len(right) > 0，\n",
    "        # 因此当两个子数组不等长时，只会出现一个数组没有被取完的现象。\n",
    "        # 由于self.sort()的递归，所有子数组都是有序的。\n",
    "        while len(left) > 0:\n",
    "            merge_list[i] = left[0]\n",
    "            left = left[1:]\n",
    "            i += 1\n",
    "        while len(right) > 0:\n",
    "            merge_list[i] = right[0]\n",
    "            right = right[1:]\n",
    "            i += 1\n",
    "        return merge_list"
   ]
  },
  {
   "cell_type": "code",
   "execution_count": 39,
   "metadata": {
    "ExecuteTime": {
     "end_time": "2019-03-13T09:13:11.647639Z",
     "start_time": "2019-03-13T09:13:11.639693Z"
    }
   },
   "outputs": [
    {
     "name": "stdout",
     "output_type": "stream",
     "text": [
      "[1, 2, 3, 4, 5, 6, 7]\n"
     ]
    }
   ],
   "source": [
    "\n",
    "m = MergeSort()\n",
    "print(m.sort(nums))"
   ]
  },
  {
   "cell_type": "code",
   "execution_count": null,
   "metadata": {},
   "outputs": [],
   "source": []
  }
 ],
 "metadata": {
  "kernelspec": {
   "display_name": "Python 3",
   "language": "python",
   "name": "python3"
  },
  "language_info": {
   "codemirror_mode": {
    "name": "ipython",
    "version": 3
   },
   "file_extension": ".py",
   "mimetype": "text/x-python",
   "name": "python",
   "nbconvert_exporter": "python",
   "pygments_lexer": "ipython3",
   "version": "3.6.8"
  },
  "toc": {
   "base_numbering": 1,
   "nav_menu": {},
   "number_sections": true,
   "sideBar": true,
   "skip_h1_title": false,
   "title_cell": "Table of Contents",
   "title_sidebar": "Contents",
   "toc_cell": false,
   "toc_position": {},
   "toc_section_display": true,
   "toc_window_display": false
  },
  "varInspector": {
   "cols": {
    "lenName": 16,
    "lenType": 16,
    "lenVar": 40
   },
   "kernels_config": {
    "python": {
     "delete_cmd_postfix": "",
     "delete_cmd_prefix": "del ",
     "library": "var_list.py",
     "varRefreshCmd": "print(var_dic_list())"
    },
    "r": {
     "delete_cmd_postfix": ") ",
     "delete_cmd_prefix": "rm(",
     "library": "var_list.r",
     "varRefreshCmd": "cat(var_dic_list()) "
    }
   },
   "types_to_exclude": [
    "module",
    "function",
    "builtin_function_or_method",
    "instance",
    "_Feature"
   ],
   "window_display": false
  }
 },
 "nbformat": 4,
 "nbformat_minor": 2
}
