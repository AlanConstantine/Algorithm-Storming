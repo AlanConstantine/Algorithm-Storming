{
 "cells": [
  {
   "cell_type": "markdown",
   "metadata": {},
   "source": [
    "# 面试题3: 数组中的重复数字"
   ]
  },
  {
   "cell_type": "code",
   "execution_count": 7,
   "metadata": {
    "ExecuteTime": {
     "end_time": "2019-03-15T06:58:44.416480Z",
     "start_time": "2019-03-15T06:58:44.408860Z"
    }
   },
   "outputs": [
    {
     "name": "stdout",
     "output_type": "stream",
     "text": [
      "2\n"
     ]
    }
   ],
   "source": [
    "# 题目以：数组中的重复数字\n",
    "# 扫描查找\n",
    "nums = [2, 3, 1, 2, 5, 3]\n",
    "\n",
    "\n",
    "def duplication_arrayI(nums, length):\n",
    "    # 判断数组是否为空\n",
    "    if not nums or length <= 0:\n",
    "        return False\n",
    "    for i in nums:\n",
    "        # 无效测试用例\n",
    "        if i >= len(nums) or i < 0:\n",
    "            return False\n",
    "    # 开始扫描\n",
    "    for i in range(len(nums)):\n",
    "        # 先判断索引是否等于对应的元素\n",
    "        while i != nums[i]:\n",
    "            # 当不相等时\n",
    "            if nums[i] == nums[nums[i]]:\n",
    "                # 判断这个数在这个数作为索引时是否相同，相同则说明重复\n",
    "                return nums[i]\n",
    "            # 不相同则进行换位\n",
    "            nums[nums[i]], nums[i] = nums[i], nums[nums[i]]\n",
    "            # **每次互换的时候都会把数字放到它相同的下标，当发现它的下标时和它本身相同的时候，\n",
    "            # **说明前面已经有一个数进行了交换或者原先就存在，说明这是个重复的数字\n",
    "    return False\n",
    "\n",
    "\n",
    "print(duplication_arrayI(nums, 6))"
   ]
  },
  {
   "cell_type": "code",
   "execution_count": 9,
   "metadata": {
    "ExecuteTime": {
     "end_time": "2019-03-15T06:59:00.230542Z",
     "start_time": "2019-03-15T06:59:00.224042Z"
    }
   },
   "outputs": [
    {
     "name": "stdout",
     "output_type": "stream",
     "text": [
      "[2, 3]\n"
     ]
    }
   ],
   "source": [
    "# 题目二：不修改数组进行查找\n",
    "# 需求1：要求找出所有重复的数字，可以用哈希表或者，计数排序思想，但是会牺牲O(n)空间\n",
    "\n",
    "# 仅找出一个\n",
    "def HashFind(a, length):  # 哈希表 需要额外的空间，空间消耗为O(n)\n",
    "    num_array = [0 for i in range(length)]\n",
    "    for i in range(len(a)):\n",
    "        if num_array[a[i]] == 0:\n",
    "            num_array[a[i]] += 1\n",
    "        else:\n",
    "            return a[i]\n",
    "\n",
    "\n",
    "nums = [2, 3, 1, 2, 5, 3]\n",
    "\n",
    "# 找出所有\n",
    "def duplication_arrayII_i(nums, length):\n",
    "    if not nums or length <= 0:\n",
    "        return False\n",
    "\n",
    "    count_list = [0 for i in range(length)]\n",
    "    # 根据元数组范围大小创建统计数组\n",
    "    res = []\n",
    "    # 创建返回容器\n",
    "    for i in nums:\n",
    "        # 遍历愿数组，统计数字出现次数\n",
    "        count_list[i] += 1\n",
    "    for c in range(len(count_list)):\n",
    "        # 遍历统计数组，当次数大于1时，将下标加入到返回容器中\n",
    "        if count_list[c] > 1:\n",
    "            res.append(c)\n",
    "    # 如果res为空则返回False，说明没有重复的数，否则返回res\n",
    "    return False if not res else res\n",
    "\n",
    "\n",
    "print(duplication_arrayII_i(nums, len(nums)))"
   ]
  },
  {
   "cell_type": "code",
   "execution_count": 13,
   "metadata": {
    "ExecuteTime": {
     "end_time": "2019-03-15T08:05:47.068864Z",
     "start_time": "2019-03-15T08:05:47.060984Z"
    }
   },
   "outputs": [
    {
     "name": "stdout",
     "output_type": "stream",
     "text": [
      "-1\n"
     ]
    }
   ],
   "source": [
    "# 需求2：不要求找出所有重复的数字，不允许使用额外空间，使用二分查找的思想\n",
    "# nums = [2, 3, 1, 2, 5, 3]\n",
    "nums = [1, 1, 3, 4, 5, 6, 7]\n",
    "\n",
    "\n",
    "def duplication_arrayII_ii(nums, length):\n",
    "    if not nums or length <= 0:\n",
    "        return -1\n",
    "    start = 1\n",
    "    end = length-1\n",
    "    while end >= start:\n",
    "        mid = ((end-start) >> 1)+start\n",
    "        # >> 位运算右移: 右移一位相当于除2，右移n位相当于除以2的n次方。\n",
    "        count = countRange(nums, length, start, mid)\n",
    "        # 统计左边的数字是否在整个数组中出现的次数\n",
    "        if start == end:\n",
    "            if count > 1:\n",
    "                # 范围无数次缩小到一个数后，且出现次数大于1，则返回\n",
    "                return start\n",
    "            else:\n",
    "                # 否则则说明没有重复的数字\n",
    "                break\n",
    "        if count > (mid-start+1):\n",
    "            # 若统计数字次数大于中间值，则说明重复数字落在左侧区间，因此重新标定范围，将end移动到mid\n",
    "            end = mid\n",
    "        else:\n",
    "            start = mid+1\n",
    "            # 否则在又区间\n",
    "    return -1\n",
    "\n",
    "\n",
    "def countRange(nums, length, start, end):\n",
    "    if not nums:\n",
    "        return 0\n",
    "    count = 0\n",
    "    for i in range(length):\n",
    "        if nums[i] >= start and nums[i] <= end:\n",
    "            count += 1\n",
    "    return count\n",
    "\n",
    "\n",
    "print(duplication_arrayII_ii(nums, len(nums)))"
   ]
  },
  {
   "cell_type": "markdown",
   "metadata": {},
   "source": [
    "# 面试题4：二维数组中的查找"
   ]
  },
  {
   "cell_type": "markdown",
   "metadata": {},
   "source": [
    "题目：在一个二维数组中， 每一行都按照从左到右递增的顺序排序，每一列都是按照从上到下递增的顺序排序。请完成一个函数，输入这样的一个二维数组和一个整数，判断数组中是否含有该整数。"
   ]
  },
  {
   "cell_type": "code",
   "execution_count": 1,
   "metadata": {
    "ExecuteTime": {
     "end_time": "2019-09-15T07:47:47.511338Z",
     "start_time": "2019-09-15T07:47:47.493172Z"
    }
   },
   "outputs": [],
   "source": [
    "matrix = [[1, 2, 8, 9], [2, 4, 9, 12], [4, 7, 10, 13], [6, 8, 11, 15]]"
   ]
  },
  {
   "cell_type": "code",
   "execution_count": 2,
   "metadata": {
    "ExecuteTime": {
     "end_time": "2019-09-15T07:47:48.994688Z",
     "start_time": "2019-09-15T07:47:48.984729Z"
    }
   },
   "outputs": [],
   "source": [
    "num = 7"
   ]
  },
  {
   "cell_type": "code",
   "execution_count": 19,
   "metadata": {
    "ExecuteTime": {
     "end_time": "2019-09-15T08:48:17.949367Z",
     "start_time": "2019-09-15T08:48:17.924014Z"
    }
   },
   "outputs": [],
   "source": [
    "def search_targer_num(matrix, num):\n",
    "    m = len(matrix)\n",
    "    if not m:\n",
    "        return False\n",
    "    n = len(matrix[0])\n",
    "\n",
    "    if n == 1:\n",
    "        return False\n",
    "\n",
    "    if matrix[0][-1] == num:\n",
    "        return True\n",
    "    if matrix[0][-1] > num:\n",
    "        return search_targer_num([r[:-1] for r in matrix], num)\n",
    "    if matrix[0][-1] < num:\n",
    "        return search_targer_num(matrix[1:], num)"
   ]
  },
  {
   "cell_type": "code",
   "execution_count": 22,
   "metadata": {
    "ExecuteTime": {
     "end_time": "2019-09-15T09:29:38.493207Z",
     "start_time": "2019-09-15T09:29:38.474177Z"
    }
   },
   "outputs": [
    {
     "data": {
      "text/plain": [
       "False"
      ]
     },
     "execution_count": 22,
     "metadata": {},
     "output_type": "execute_result"
    }
   ],
   "source": [
    "search_targer_num(matrix, 18)"
   ]
  },
  {
   "cell_type": "markdown",
   "metadata": {},
   "source": [
    "# 面试题7：重建二叉树（P62）"
   ]
  },
  {
   "cell_type": "markdown",
   "metadata": {},
   "source": [
    "题目：输入某二叉树的前序遍历和中序遍历的结果，请重构该二叉树。假设输入的前序遍历和中序遍历的结果中都不含重复的数字。例如，输入前序遍历序列{1, 2, 4, 7, 3, 5, 6, 8}和中序遍历序列{4, 7, 2, 1, 5, 3, 8, 6}，则重建如图2.6所示的二叉树并输出它的头节点。"
   ]
  },
  {
   "cell_type": "code",
   "execution_count": 34,
   "metadata": {
    "ExecuteTime": {
     "end_time": "2019-09-16T15:47:37.994301Z",
     "start_time": "2019-09-16T15:47:37.959751Z"
    }
   },
   "outputs": [],
   "source": [
    "class TreeNode(object):\n",
    "    def __init__(self, val):\n",
    "        self.val = val\n",
    "        self.left = None\n",
    "        self.right = None"
   ]
  },
  {
   "cell_type": "code",
   "execution_count": 51,
   "metadata": {
    "ExecuteTime": {
     "end_time": "2019-09-16T17:00:29.817227Z",
     "start_time": "2019-09-16T17:00:29.802632Z"
    }
   },
   "outputs": [],
   "source": [
    "pre_tra = [1, 2, 4, 7, 3, 5, 6, 8]\n",
    "in_tra = [4, 7, 2, 1, 5, 3, 8, 6]"
   ]
  },
  {
   "cell_type": "code",
   "execution_count": 78,
   "metadata": {
    "ExecuteTime": {
     "end_time": "2019-09-16T17:43:31.218249Z",
     "start_time": "2019-09-16T17:43:31.163199Z"
    }
   },
   "outputs": [],
   "source": [
    "def rebuildBinaryTree(pre_tra, in_tra):\n",
    "    if len(pre_tra) != len(in_tra):\n",
    "        return \"Wrong input.\"\n",
    "    \n",
    "    root = TreeNode(pre_tra[0])\n",
    "    i = 0\n",
    "    while in_tra[i] != root.val:\n",
    "        i += 1\n",
    "\n",
    "    left_in_tra = in_tra[:i]\n",
    "    right_in_tra = in_tra[i+1:]\n",
    "\n",
    "    pre_tra = pre_tra[1:]\n",
    "\n",
    "    def recursive(pre_tra, root, in_tra, p):\n",
    "        if len(in_tra) == 0 or len(pre_tra) == 0:\n",
    "            return\n",
    "        subroot_node = TreeNode(pre_tra[0])\n",
    "        if len(pre_tra) == 1:\n",
    "            if p == 1:\n",
    "                root.left = subroot_node\n",
    "            else:\n",
    "                root.right = subroot_node\n",
    "            return\n",
    "        pre_tra = pre_tra[1:]\n",
    "\n",
    "        i = 0\n",
    "        print(in_tra)\n",
    "        \n",
    "        for i in range(len(in_tra)):\n",
    "            if in_tra[i] == subroot_node.val:\n",
    "                break\n",
    "            i += 1\n",
    "\n",
    "        left_in_tra = in_tra[:i]\n",
    "        right_in_tra = in_tra[i+1:]\n",
    "\n",
    "        if p == 1:\n",
    "            root.left = subroot_node\n",
    "            recursive(pre_tra, subroot_node, left_in_tra, 1)\n",
    "            recursive(pre_tra, subroot_node, right_in_tra, 0)\n",
    "        else:\n",
    "            root.right = subroot_node\n",
    "            recursive(pre_tra, subroot_node, right_in_tra, 1)\n",
    "            recursive(pre_tra, subroot_node, left_in_tra, 0)\n",
    "\n",
    "    if pre_tra[0] in left_in_tra:\n",
    "        recursive(pre_tra, root, left_in_tra, 1)\n",
    "        recursive(pre_tra, root, right_in_tra, 0)\n",
    "    else:\n",
    "        recursive(pre_tra, root, right_in_tra, 1)\n",
    "        recursive(pre_tra, root, left_in_tra, 0)\n",
    "    return root"
   ]
  },
  {
   "cell_type": "code",
   "execution_count": 79,
   "metadata": {
    "ExecuteTime": {
     "end_time": "2019-09-16T17:43:32.015511Z",
     "start_time": "2019-09-16T17:43:31.987418Z"
    }
   },
   "outputs": [
    {
     "name": "stdout",
     "output_type": "stream",
     "text": [
      "[4, 7, 2]\n",
      "[4, 7]\n",
      "[7]\n",
      "[5, 3, 8, 6]\n",
      "[5, 3, 8, 6]\n",
      "[5, 3, 8, 6]\n",
      "[5, 3, 8, 6]\n",
      "[8, 6]\n",
      "[8, 6]\n",
      "[5]\n"
     ]
    }
   ],
   "source": [
    "root = rebuildBinaryTree(pre_tra, in_tra)"
   ]
  },
  {
   "cell_type": "code",
   "execution_count": 80,
   "metadata": {
    "ExecuteTime": {
     "end_time": "2019-09-16T17:43:37.694102Z",
     "start_time": "2019-09-16T17:43:37.662529Z"
    }
   },
   "outputs": [],
   "source": [
    "def preTre(root):\n",
    "    if not root:\n",
    "        return\n",
    "    print(root.val)\n",
    "    preTre(root.left)\n",
    "    preTre(root.right)"
   ]
  },
  {
   "cell_type": "code",
   "execution_count": 81,
   "metadata": {
    "ExecuteTime": {
     "end_time": "2019-09-16T17:43:38.865151Z",
     "start_time": "2019-09-16T17:43:38.821830Z"
    }
   },
   "outputs": [
    {
     "name": "stdout",
     "output_type": "stream",
     "text": [
      "1\n",
      "2\n",
      "4\n",
      "7\n",
      "2\n",
      "4\n",
      "7\n",
      "3\n",
      "5\n",
      "6\n",
      "8\n",
      "5\n"
     ]
    }
   ],
   "source": [
    "preTre(root)"
   ]
  },
  {
   "cell_type": "code",
   "execution_count": null,
   "metadata": {},
   "outputs": [],
   "source": []
  }
 ],
 "metadata": {
  "kernelspec": {
   "display_name": "Python 3",
   "language": "python",
   "name": "python3"
  },
  "language_info": {
   "codemirror_mode": {
    "name": "ipython",
    "version": 3
   },
   "file_extension": ".py",
   "mimetype": "text/x-python",
   "name": "python",
   "nbconvert_exporter": "python",
   "pygments_lexer": "ipython3",
   "version": "3.7.3"
  },
  "toc": {
   "base_numbering": 1,
   "nav_menu": {},
   "number_sections": true,
   "sideBar": true,
   "skip_h1_title": false,
   "title_cell": "Table of Contents",
   "title_sidebar": "Contents",
   "toc_cell": false,
   "toc_position": {},
   "toc_section_display": true,
   "toc_window_display": true
  },
  "varInspector": {
   "cols": {
    "lenName": 16,
    "lenType": 16,
    "lenVar": 40
   },
   "kernels_config": {
    "python": {
     "delete_cmd_postfix": "",
     "delete_cmd_prefix": "del ",
     "library": "var_list.py",
     "varRefreshCmd": "print(var_dic_list())"
    },
    "r": {
     "delete_cmd_postfix": ") ",
     "delete_cmd_prefix": "rm(",
     "library": "var_list.r",
     "varRefreshCmd": "cat(var_dic_list()) "
    }
   },
   "types_to_exclude": [
    "module",
    "function",
    "builtin_function_or_method",
    "instance",
    "_Feature"
   ],
   "window_display": false
  }
 },
 "nbformat": 4,
 "nbformat_minor": 2
}
