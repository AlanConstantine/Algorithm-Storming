{
 "cells": [
  {
   "cell_type": "markdown",
   "metadata": {},
   "source": [
    "# 链表"
   ]
  },
  {
   "cell_type": "code",
   "execution_count": 2,
   "metadata": {
    "ExecuteTime": {
     "end_time": "2019-03-25T13:52:02.487967Z",
     "start_time": "2019-03-25T13:52:02.484070Z"
    }
   },
   "outputs": [],
   "source": [
    "class Node():\n",
    "    \"\"\"docstring for ClassName\"\"\"\n",
    "\n",
    "    def __init__(self, val):\n",
    "        # super(ClassName, self).__init__()\n",
    "        self.val = val\n",
    "        self.next = None"
   ]
  },
  {
   "cell_type": "code",
   "execution_count": 3,
   "metadata": {
    "ExecuteTime": {
     "end_time": "2019-03-25T13:52:02.494488Z",
     "start_time": "2019-03-25T13:52:02.490810Z"
    }
   },
   "outputs": [],
   "source": [
    "n1 = Node(1)\n",
    "n2 = Node(2)\n",
    "n3 = Node(3)\n",
    "n4 = Node(4)\n",
    "n5 = Node(5)\n",
    "n6 = Node(6)\n",
    "\n",
    "n1.next = n2\n",
    "n2.next = n3\n",
    "n3.next = n4\n",
    "n4.next = n5\n",
    "n5.next = n6"
   ]
  },
  {
   "cell_type": "markdown",
   "metadata": {},
   "source": [
    "## 输出单链表倒数第 K 个节点"
   ]
  },
  {
   "cell_type": "markdown",
   "metadata": {},
   "source": [
    "题目：输入一个单链表，输出此链表中的倒数第 K 个节点。（去除头结点，节点计数从 1 开始）。"
   ]
  },
  {
   "cell_type": "markdown",
   "metadata": {},
   "source": [
    "### 两次遍历法\n",
    "1. 遍历单链表，遍历同时得出链表长度 N 。\n",
    "2. 再次从头遍历，访问至第 N - K 个节点为所求节点。"
   ]
  },
  {
   "cell_type": "code",
   "execution_count": 4,
   "metadata": {
    "ExecuteTime": {
     "end_time": "2019-03-25T13:52:02.501664Z",
     "start_time": "2019-03-25T13:52:02.496620Z"
    }
   },
   "outputs": [],
   "source": [
    "class getKthSolution():\n",
    "    def list_lenght(self, n):\n",
    "        if not n:\n",
    "            return 0\n",
    "        cur = n.next\n",
    "        count = 0\n",
    "        while cur != None:\n",
    "            count += 1\n",
    "            cur = cur.next\n",
    "        return count\n",
    "\n",
    "    def get_Kth(self, n, k):\n",
    "        if not n:\n",
    "            return 0\n",
    "        list_len = self.list_lenght(n)\n",
    "        cur = n.next\n",
    "        count = 0\n",
    "        stp = list_len-k\n",
    "        while cur != None:\n",
    "            if count == stp:\n",
    "                return cur.val\n",
    "            count += 1\n",
    "            cur = cur.next"
   ]
  },
  {
   "cell_type": "code",
   "execution_count": 5,
   "metadata": {
    "ExecuteTime": {
     "end_time": "2019-03-25T13:52:02.507547Z",
     "start_time": "2019-03-25T13:52:02.504251Z"
    }
   },
   "outputs": [
    {
     "name": "stdout",
     "output_type": "stream",
     "text": [
      "5\n"
     ]
    }
   ],
   "source": [
    "s = getKthSolution()\n",
    "print(s.get_Kth(n1, 2))"
   ]
  },
  {
   "cell_type": "markdown",
   "metadata": {},
   "source": [
    "### 递归法\n",
    "1. 定义num = k\n",
    "2. 使用递归方式遍历至链表末尾。\n",
    "3. 由末尾开始返回，每返回一次 num 减 1\n",
    "4. 当 num 为 0 时，即可找到目标节点\n",
    "5. 依旧是两次遍历，从头到尾，再从尾到头返回"
   ]
  },
  {
   "cell_type": "code",
   "execution_count": 6,
   "metadata": {
    "ExecuteTime": {
     "end_time": "2019-03-25T13:52:02.513384Z",
     "start_time": "2019-03-25T13:52:02.509808Z"
    }
   },
   "outputs": [],
   "source": [
    "class getKthSolutionII():\n",
    "\n",
    "    def recursive(self, pHead, k):\n",
    "        num = k\n",
    "        if pHead == None:\n",
    "            return None, num\n",
    "        cur, num = self.recursive(pHead.next, k)\n",
    "        if cur != None:\n",
    "            return cur, num\n",
    "        else:\n",
    "            num -= 1\n",
    "            if num == 0:\n",
    "                return pHead, num\n",
    "            return None, num"
   ]
  },
  {
   "cell_type": "code",
   "execution_count": 7,
   "metadata": {
    "ExecuteTime": {
     "end_time": "2019-03-25T13:52:02.518896Z",
     "start_time": "2019-03-25T13:52:02.515948Z"
    }
   },
   "outputs": [
    {
     "name": "stdout",
     "output_type": "stream",
     "text": [
      "5\n"
     ]
    }
   ],
   "source": [
    "s = getKthSolutionII()\n",
    "res, num = s.recursive(n1.next, 2)\n",
    "print(res.val)"
   ]
  },
  {
   "cell_type": "markdown",
   "metadata": {},
   "source": [
    "### 双指针法"
   ]
  },
  {
   "cell_type": "markdown",
   "metadata": {},
   "source": [
    "1. 定义两个指针 p1 和 p2 分别指向链表头节点。\n",
    "1. p1 前进 K 个节点，则 p1 与 p2 相距 K 个节点。\n",
    "1. p1，p2 同时前进，每次前进 1 个节点。\n",
    "1. 当 p1 指向到达链表末尾，由于 p1 与 p2 相距 K 个节点，则 p2 指向目标节点。"
   ]
  },
  {
   "cell_type": "code",
   "execution_count": 8,
   "metadata": {
    "ExecuteTime": {
     "end_time": "2019-03-25T13:52:02.524118Z",
     "start_time": "2019-03-25T13:52:02.520985Z"
    }
   },
   "outputs": [],
   "source": [
    "class getKthSolutionIII():\n",
    "\n",
    "    def two_point(self, n, k):\n",
    "        p1 = n.next\n",
    "        p2 = n.next\n",
    "        count = 0\n",
    "        while p1 != None:\n",
    "            count += 1\n",
    "            p1 = p1.next\n",
    "            if count >= k+1:\n",
    "                p2 = p2.next\n",
    "        return p2.val"
   ]
  },
  {
   "cell_type": "code",
   "execution_count": 9,
   "metadata": {
    "ExecuteTime": {
     "end_time": "2019-03-25T13:52:02.528718Z",
     "start_time": "2019-03-25T13:52:02.526093Z"
    }
   },
   "outputs": [
    {
     "name": "stdout",
     "output_type": "stream",
     "text": [
      "5\n"
     ]
    }
   ],
   "source": [
    "s = getKthSolutionIII()\n",
    "print(s.two_point(n1,2))"
   ]
  },
  {
   "cell_type": "markdown",
   "metadata": {},
   "source": [
    "### 栈\n",
    "先进后出，后进先出"
   ]
  },
  {
   "cell_type": "code",
   "execution_count": 10,
   "metadata": {
    "ExecuteTime": {
     "end_time": "2019-03-25T13:52:02.534146Z",
     "start_time": "2019-03-25T13:52:02.530630Z"
    }
   },
   "outputs": [],
   "source": [
    "class getKthSolutionIIII():\n",
    "\n",
    "    def use_stack(self, n, k):\n",
    "        stack = []\n",
    "        cur = n.next\n",
    "        while cur:\n",
    "            stack.append(cur)\n",
    "            cur = cur.next\n",
    "        for i in range(k):\n",
    "            res = stack.pop()\n",
    "        return res.val"
   ]
  },
  {
   "cell_type": "code",
   "execution_count": 11,
   "metadata": {
    "ExecuteTime": {
     "end_time": "2019-03-25T13:52:02.539128Z",
     "start_time": "2019-03-25T13:52:02.536163Z"
    }
   },
   "outputs": [
    {
     "name": "stdout",
     "output_type": "stream",
     "text": [
      "6\n"
     ]
    }
   ],
   "source": [
    "s = getKthSolutionIIII()\n",
    "print(s.use_stack(n1,1))"
   ]
  },
  {
   "cell_type": "markdown",
   "metadata": {},
   "source": [
    "## 链表中存在环问题"
   ]
  },
  {
   "cell_type": "markdown",
   "metadata": {},
   "source": [
    "### 快慢指针法\n",
    "1. 定义两个指针分别为 slow，fast，并且将指针均指向链表头节点。\n",
    "2. 规定，slow 指针每次前进 1 个节点，fast 指针每次前进两个节点。\n",
    "3. 当 slow 与 fast 相等，且二者均不为空，则链表存在环。"
   ]
  },
  {
   "cell_type": "code",
   "execution_count": 12,
   "metadata": {
    "ExecuteTime": {
     "end_time": "2019-03-25T13:52:02.545725Z",
     "start_time": "2019-03-25T13:52:02.541589Z"
    }
   },
   "outputs": [],
   "source": [
    "n1 = Node(1)\n",
    "n2 = Node(2)\n",
    "n3 = Node(3)\n",
    "n4 = Node(4)\n",
    "n5 = Node(5)\n",
    "n6 = Node(6)\n",
    "\n",
    "n1.next = n2\n",
    "n2.next = n3\n",
    "n3.next = n4\n",
    "n4.next = n5\n",
    "n5.next = n6\n",
    "n6.next = n4"
   ]
  },
  {
   "cell_type": "code",
   "execution_count": 13,
   "metadata": {
    "ExecuteTime": {
     "end_time": "2019-03-25T13:52:02.551305Z",
     "start_time": "2019-03-25T13:52:02.547978Z"
    }
   },
   "outputs": [],
   "source": [
    "def if_loop(n):\n",
    "    fast = n.next\n",
    "    slow = n.next\n",
    "    while slow != None and fast.next != None:\n",
    "        slow = slow.next\n",
    "        fast = fast.next.next\n",
    "        if fast == slow:\n",
    "            return True\n",
    "    return False"
   ]
  },
  {
   "cell_type": "code",
   "execution_count": 14,
   "metadata": {
    "ExecuteTime": {
     "end_time": "2019-03-25T13:52:02.563360Z",
     "start_time": "2019-03-25T13:52:02.553119Z"
    }
   },
   "outputs": [
    {
     "data": {
      "text/plain": [
       "True"
      ]
     },
     "execution_count": 14,
     "metadata": {},
     "output_type": "execute_result"
    }
   ],
   "source": [
    "if_loop(n1)"
   ]
  },
  {
   "cell_type": "markdown",
   "metadata": {},
   "source": [
    "## 反转链表"
   ]
  },
  {
   "cell_type": "markdown",
   "metadata": {},
   "source": [
    "* 输入: 1->2->3->4->5->NULL\n",
    "* 输出: 5->4->3->2->1->NULL\n",
    "* 进阶:\n",
    "    * 你可以迭代或递归地反转链表。你能否用两种方法解决这道题？"
   ]
  },
  {
   "cell_type": "markdown",
   "metadata": {},
   "source": [
    "### 解题思路\n",
    "设置三个节点pre、cur、next\n",
    "\n",
    "1. 每次查看cur节点是否为NULL，如果是，则结束循环，获得结果\n",
    "\n",
    "1. 如果cur节点不是为NULL，则先设置临时变量next为cur的下一个节点\n",
    "\n",
    "1. 让cur的下一个节点变成指向pre，而后pre移动cur，cur移动到next\n",
    "\n",
    "1. 重复（1）（2）（3）"
   ]
  },
  {
   "cell_type": "code",
   "execution_count": 15,
   "metadata": {
    "ExecuteTime": {
     "end_time": "2019-03-25T13:52:02.568726Z",
     "start_time": "2019-03-25T13:52:02.565292Z"
    }
   },
   "outputs": [],
   "source": [
    "n1 = Node(1)\n",
    "n2 = Node(2)\n",
    "n3 = Node(3)\n",
    "n4 = Node(4)\n",
    "n5 = Node(5)\n",
    "n6 = Node(6)\n",
    "\n",
    "n1.next = n2\n",
    "n2.next = n3\n",
    "n3.next = n4\n",
    "n4.next = n5\n",
    "n5.next = n6"
   ]
  },
  {
   "cell_type": "code",
   "execution_count": 38,
   "metadata": {
    "ExecuteTime": {
     "end_time": "2019-03-25T14:08:58.614944Z",
     "start_time": "2019-03-25T14:08:58.610689Z"
    }
   },
   "outputs": [],
   "source": [
    "def reverse(n):\n",
    "    pre = Node(0)\n",
    "    pCur = n\n",
    "    while pCur != None:\n",
    "        pNext = pCur.next\n",
    "        pCur.next = pre\n",
    "        pre = pCur\n",
    "        pCur = pNext\n",
    "    return pre"
   ]
  },
  {
   "cell_type": "code",
   "execution_count": 39,
   "metadata": {
    "ExecuteTime": {
     "end_time": "2019-03-25T14:08:59.098912Z",
     "start_time": "2019-03-25T14:08:59.094950Z"
    }
   },
   "outputs": [
    {
     "name": "stdout",
     "output_type": "stream",
     "text": [
      "1\n",
      "2\n",
      "3\n",
      "4\n"
     ]
    }
   ],
   "source": [
    "n1 = reverse(n1)\n",
    "# print(n1.next.val)\n",
    "print(n2.next.val)\n",
    "print(n3.next.val)\n",
    "print(n4.next.val)\n",
    "print(n5.next.val)"
   ]
  },
  {
   "cell_type": "markdown",
   "metadata": {},
   "source": [
    "## 从尾到头打印链表\n",
    "输入一个链表，按链表值从尾到头的顺序返回一个 ArrayList "
   ]
  },
  {
   "cell_type": "markdown",
   "metadata": {},
   "source": [
    "初看题目意思就是输出的时候链表尾部的元素放在前面，链表头部的元素放在后面。这不就是 先进后出，后进先出"
   ]
  },
  {
   "cell_type": "code",
   "execution_count": 42,
   "metadata": {
    "ExecuteTime": {
     "end_time": "2019-03-25T14:13:31.202687Z",
     "start_time": "2019-03-25T14:13:31.198736Z"
    }
   },
   "outputs": [],
   "source": [
    "def reverse_print(n):\n",
    "    stack = []\n",
    "    while n != None:\n",
    "        stack.append(n)\n",
    "        n = n.next\n",
    "    for i in range(len(stack)):\n",
    "        print(stack.pop().val)"
   ]
  },
  {
   "cell_type": "code",
   "execution_count": 43,
   "metadata": {
    "ExecuteTime": {
     "end_time": "2019-03-25T14:13:31.491393Z",
     "start_time": "2019-03-25T14:13:31.487295Z"
    }
   },
   "outputs": [
    {
     "name": "stdout",
     "output_type": "stream",
     "text": [
      "0\n"
     ]
    }
   ],
   "source": [
    "reverse_print(n1)"
   ]
  },
  {
   "cell_type": "code",
   "execution_count": null,
   "metadata": {},
   "outputs": [],
   "source": []
  }
 ],
 "metadata": {
  "kernelspec": {
   "display_name": "Python 3",
   "language": "python",
   "name": "python3"
  },
  "language_info": {
   "codemirror_mode": {
    "name": "ipython",
    "version": 3
   },
   "file_extension": ".py",
   "mimetype": "text/x-python",
   "name": "python",
   "nbconvert_exporter": "python",
   "pygments_lexer": "ipython3",
   "version": "3.6.2"
  },
  "toc": {
   "base_numbering": 1,
   "nav_menu": {},
   "number_sections": true,
   "sideBar": true,
   "skip_h1_title": false,
   "title_cell": "Table of Contents",
   "title_sidebar": "Contents",
   "toc_cell": false,
   "toc_position": {},
   "toc_section_display": true,
   "toc_window_display": false
  },
  "varInspector": {
   "cols": {
    "lenName": 16,
    "lenType": 16,
    "lenVar": 40
   },
   "kernels_config": {
    "python": {
     "delete_cmd_postfix": "",
     "delete_cmd_prefix": "del ",
     "library": "var_list.py",
     "varRefreshCmd": "print(var_dic_list())"
    },
    "r": {
     "delete_cmd_postfix": ") ",
     "delete_cmd_prefix": "rm(",
     "library": "var_list.r",
     "varRefreshCmd": "cat(var_dic_list()) "
    }
   },
   "types_to_exclude": [
    "module",
    "function",
    "builtin_function_or_method",
    "instance",
    "_Feature"
   ],
   "window_display": false
  }
 },
 "nbformat": 4,
 "nbformat_minor": 2
}
