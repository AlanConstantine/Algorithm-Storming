{
 "cells": [
  {
   "cell_type": "markdown",
   "metadata": {},
   "source": [
    "# 链表"
   ]
  },
  {
   "cell_type": "code",
   "execution_count": 1,
   "metadata": {
    "ExecuteTime": {
     "end_time": "2019-03-24T15:44:15.997305Z",
     "start_time": "2019-03-24T15:44:15.994211Z"
    }
   },
   "outputs": [],
   "source": [
    "class Node():\n",
    "    \"\"\"docstring for ClassName\"\"\"\n",
    "\n",
    "    def __init__(self, val):\n",
    "        # super(ClassName, self).__init__()\n",
    "        self.val = val\n",
    "        self.next = None"
   ]
  },
  {
   "cell_type": "code",
   "execution_count": 2,
   "metadata": {
    "ExecuteTime": {
     "end_time": "2019-03-24T15:44:16.003621Z",
     "start_time": "2019-03-24T15:44:15.999681Z"
    }
   },
   "outputs": [],
   "source": [
    "n1 = Node(1)\n",
    "n2 = Node(2)\n",
    "n3 = Node(3)\n",
    "n4 = Node(4)\n",
    "n5 = Node(5)\n",
    "n6 = Node(6)\n",
    "\n",
    "n1.next = n2\n",
    "n2.next = n3\n",
    "n3.next = n4\n",
    "n4.next = n5\n",
    "n5.next = n6"
   ]
  },
  {
   "cell_type": "markdown",
   "metadata": {},
   "source": [
    "## 输出单链表倒数第 K 个节点"
   ]
  },
  {
   "cell_type": "markdown",
   "metadata": {},
   "source": [
    "题目：输入一个单链表，输出此链表中的倒数第 K 个节点。（去除头结点，节点计数从 1 开始）。"
   ]
  },
  {
   "cell_type": "markdown",
   "metadata": {},
   "source": [
    "### 两次遍历法\n",
    "1. 遍历单链表，遍历同时得出链表长度 N 。\n",
    "2. 再次从头遍历，访问至第 N - K 个节点为所求节点。"
   ]
  },
  {
   "cell_type": "code",
   "execution_count": 3,
   "metadata": {
    "ExecuteTime": {
     "end_time": "2019-03-24T15:44:16.010578Z",
     "start_time": "2019-03-24T15:44:16.006120Z"
    }
   },
   "outputs": [],
   "source": [
    "class getKthSolution():\n",
    "    def list_lenght(self, n):\n",
    "        if not n:\n",
    "            return 0\n",
    "        cur = n.next\n",
    "        count = 0\n",
    "        while cur != None:\n",
    "            count += 1\n",
    "            cur = cur.next\n",
    "        return count\n",
    "\n",
    "    def get_Kth(self, n, k):\n",
    "        if not n:\n",
    "            return 0\n",
    "        list_len = list_lenght(n)\n",
    "        cur = n.next\n",
    "        count = 0\n",
    "        stp = list_len-k\n",
    "        while cur != None:\n",
    "            if count == stp:\n",
    "                return cur.val\n",
    "            count += 1\n",
    "            cur = cur.next"
   ]
  },
  {
   "cell_type": "code",
   "execution_count": 4,
   "metadata": {
    "ExecuteTime": {
     "end_time": "2019-03-24T15:44:16.112562Z",
     "start_time": "2019-03-24T15:44:16.012912Z"
    }
   },
   "outputs": [
    {
     "ename": "NameError",
     "evalue": "name 'list_lenght' is not defined",
     "output_type": "error",
     "traceback": [
      "\u001b[0;31m---------------------------------------------------------------------------\u001b[0m",
      "\u001b[0;31mNameError\u001b[0m                                 Traceback (most recent call last)",
      "\u001b[0;32m<ipython-input-4-4631711cd42b>\u001b[0m in \u001b[0;36m<module>\u001b[0;34m\u001b[0m\n\u001b[1;32m      1\u001b[0m \u001b[0ms\u001b[0m \u001b[0;34m=\u001b[0m \u001b[0mgetKthSolution\u001b[0m\u001b[0;34m(\u001b[0m\u001b[0;34m)\u001b[0m\u001b[0;34m\u001b[0m\u001b[0m\n\u001b[0;32m----> 2\u001b[0;31m \u001b[0mprint\u001b[0m\u001b[0;34m(\u001b[0m\u001b[0ms\u001b[0m\u001b[0;34m.\u001b[0m\u001b[0mget_Kth\u001b[0m\u001b[0;34m(\u001b[0m\u001b[0mn1\u001b[0m\u001b[0;34m,\u001b[0m \u001b[0;36m2\u001b[0m\u001b[0;34m)\u001b[0m\u001b[0;34m)\u001b[0m\u001b[0;34m\u001b[0m\u001b[0m\n\u001b[0m",
      "\u001b[0;32m<ipython-input-3-a882ff9cb611>\u001b[0m in \u001b[0;36mget_Kth\u001b[0;34m(self, n, k)\u001b[0m\n\u001b[1;32m     13\u001b[0m         \u001b[0;32mif\u001b[0m \u001b[0;32mnot\u001b[0m \u001b[0mn\u001b[0m\u001b[0;34m:\u001b[0m\u001b[0;34m\u001b[0m\u001b[0m\n\u001b[1;32m     14\u001b[0m             \u001b[0;32mreturn\u001b[0m \u001b[0;36m0\u001b[0m\u001b[0;34m\u001b[0m\u001b[0m\n\u001b[0;32m---> 15\u001b[0;31m         \u001b[0mlist_len\u001b[0m \u001b[0;34m=\u001b[0m \u001b[0mlist_lenght\u001b[0m\u001b[0;34m(\u001b[0m\u001b[0mn\u001b[0m\u001b[0;34m)\u001b[0m\u001b[0;34m\u001b[0m\u001b[0m\n\u001b[0m\u001b[1;32m     16\u001b[0m         \u001b[0mcur\u001b[0m \u001b[0;34m=\u001b[0m \u001b[0mn\u001b[0m\u001b[0;34m.\u001b[0m\u001b[0mnext\u001b[0m\u001b[0;34m\u001b[0m\u001b[0m\n\u001b[1;32m     17\u001b[0m         \u001b[0mcount\u001b[0m \u001b[0;34m=\u001b[0m \u001b[0;36m0\u001b[0m\u001b[0;34m\u001b[0m\u001b[0m\n",
      "\u001b[0;31mNameError\u001b[0m: name 'list_lenght' is not defined"
     ]
    }
   ],
   "source": [
    "s = getKthSolution()\n",
    "print(s.get_Kth(n1, 2))"
   ]
  },
  {
   "cell_type": "markdown",
   "metadata": {},
   "source": [
    "### 递归法\n",
    "1. 定义num = k\n",
    "2. 使用递归方式遍历至链表末尾。\n",
    "3. 由末尾开始返回，每返回一次 num 减 1\n",
    "4. 当 num 为 0 时，即可找到目标节点"
   ]
  },
  {
   "cell_type": "code",
   "execution_count": null,
   "metadata": {
    "ExecuteTime": {
     "end_time": "2019-03-24T15:44:16.113497Z",
     "start_time": "2019-03-24T15:44:16.002Z"
    }
   },
   "outputs": [],
   "source": [
    "class getKthSolutionII():\n",
    "    num = 0\n",
    "\n",
    "    def recursive(self, pHead, k):\n",
    "        self.num = k\n",
    "        if not pHead:\n",
    "            return None\n",
    "        cur = self.recursive(pHead.next, k)\n",
    "        if not cur:\n",
    "            return cur\n",
    "        else:\n",
    "            self.num -= 1\n",
    "            if self.num == 0:\n",
    "                return pHead\n",
    "            return None"
   ]
  },
  {
   "cell_type": "code",
   "execution_count": null,
   "metadata": {
    "ExecuteTime": {
     "end_time": "2019-03-24T15:44:16.114702Z",
     "start_time": "2019-03-24T15:44:16.005Z"
    }
   },
   "outputs": [],
   "source": [
    "s = getKthSolutionII()\n",
    "print(s.recursive(n1.next, 2))"
   ]
  },
  {
   "cell_type": "markdown",
   "metadata": {},
   "source": [
    "### 双指针法"
   ]
  },
  {
   "cell_type": "markdown",
   "metadata": {},
   "source": [
    "1. 定义两个指针 p1 和 p2 分别指向链表头节点。\n",
    "1. p1 前进 K 个节点，则 p1 与 p2 相距 K 个节点。\n",
    "1. p1，p2 同时前进，每次前进 1 个节点。\n",
    "1. 当 p1 指向到达链表末尾，由于 p1 与 p2 相距 K 个节点，则 p2 指向目标节点。"
   ]
  },
  {
   "cell_type": "code",
   "execution_count": 5,
   "metadata": {
    "ExecuteTime": {
     "end_time": "2019-03-24T15:53:11.012559Z",
     "start_time": "2019-03-24T15:53:11.008640Z"
    }
   },
   "outputs": [],
   "source": [
    "class getKthSolutionIII():\n",
    "\n",
    "    def two_point(self, n, k):\n",
    "        p1 = n.next\n",
    "        p2 = n.next\n",
    "        count = 0\n",
    "        "
   ]
  },
  {
   "cell_type": "markdown",
   "metadata": {},
   "source": [
    "### 栈\n",
    "先进后出，后进先出"
   ]
  },
  {
   "cell_type": "code",
   "execution_count": 9,
   "metadata": {
    "ExecuteTime": {
     "end_time": "2019-03-24T15:56:10.106724Z",
     "start_time": "2019-03-24T15:56:10.102075Z"
    }
   },
   "outputs": [],
   "source": [
    "class getKthSolutionIIII():\n",
    "\n",
    "    def use_stack(self, n, k):\n",
    "        stack = []\n",
    "        cur = n.next\n",
    "        while cur:\n",
    "            stack.append(cur)\n",
    "            cur = cur.next\n",
    "        for i in range(k):\n",
    "            res = stack.pop()\n",
    "        return res.val"
   ]
  },
  {
   "cell_type": "code",
   "execution_count": 11,
   "metadata": {
    "ExecuteTime": {
     "end_time": "2019-03-24T15:56:20.882370Z",
     "start_time": "2019-03-24T15:56:20.878248Z"
    }
   },
   "outputs": [
    {
     "name": "stdout",
     "output_type": "stream",
     "text": [
      "6\n"
     ]
    }
   ],
   "source": [
    "s = getKthSolutionIIII()\n",
    "print(s.use_stack(n1,1))"
   ]
  },
  {
   "cell_type": "code",
   "execution_count": null,
   "metadata": {},
   "outputs": [],
   "source": []
  }
 ],
 "metadata": {
  "kernelspec": {
   "display_name": "Python 3",
   "language": "python",
   "name": "python3"
  },
  "language_info": {
   "codemirror_mode": {
    "name": "ipython",
    "version": 3
   },
   "file_extension": ".py",
   "mimetype": "text/x-python",
   "name": "python",
   "nbconvert_exporter": "python",
   "pygments_lexer": "ipython3",
   "version": "3.6.2"
  },
  "toc": {
   "base_numbering": 1,
   "nav_menu": {},
   "number_sections": true,
   "sideBar": true,
   "skip_h1_title": false,
   "title_cell": "Table of Contents",
   "title_sidebar": "Contents",
   "toc_cell": false,
   "toc_position": {},
   "toc_section_display": true,
   "toc_window_display": false
  },
  "varInspector": {
   "cols": {
    "lenName": 16,
    "lenType": 16,
    "lenVar": 40
   },
   "kernels_config": {
    "python": {
     "delete_cmd_postfix": "",
     "delete_cmd_prefix": "del ",
     "library": "var_list.py",
     "varRefreshCmd": "print(var_dic_list())"
    },
    "r": {
     "delete_cmd_postfix": ") ",
     "delete_cmd_prefix": "rm(",
     "library": "var_list.r",
     "varRefreshCmd": "cat(var_dic_list()) "
    }
   },
   "types_to_exclude": [
    "module",
    "function",
    "builtin_function_or_method",
    "instance",
    "_Feature"
   ],
   "window_display": false
  }
 },
 "nbformat": 4,
 "nbformat_minor": 2
}
