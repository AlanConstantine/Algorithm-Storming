{
 "cells": [
  {
   "cell_type": "markdown",
   "metadata": {},
   "source": [
    "# 链表"
   ]
  },
  {
   "cell_type": "code",
   "execution_count": 1,
   "metadata": {
    "ExecuteTime": {
     "end_time": "2019-03-22T08:20:31.883582Z",
     "start_time": "2019-03-22T08:20:31.872823Z"
    }
   },
   "outputs": [],
   "source": [
    "class Node():\n",
    "    \"\"\"docstring for ClassName\"\"\"\n",
    "\n",
    "    def __init__(self, val):\n",
    "        # super(ClassName, self).__init__()\n",
    "        self.val = val\n",
    "        self.next = None"
   ]
  },
  {
   "cell_type": "code",
   "execution_count": 12,
   "metadata": {
    "ExecuteTime": {
     "end_time": "2019-03-22T08:34:22.686458Z",
     "start_time": "2019-03-22T08:34:22.677524Z"
    }
   },
   "outputs": [],
   "source": [
    "n1 = Node(1)\n",
    "n2 = Node(2)\n",
    "n3 = Node(3)\n",
    "n4 = Node(4)\n",
    "n5 = Node(5)\n",
    "n6 = Node(6)\n",
    "\n",
    "n1.next = n2\n",
    "n2.next = n3\n",
    "n3.next = n4\n",
    "n4.next = n5\n",
    "n5.next = n6"
   ]
  },
  {
   "cell_type": "markdown",
   "metadata": {},
   "source": [
    "## 输出单链表倒数第 K 个节点"
   ]
  },
  {
   "cell_type": "markdown",
   "metadata": {},
   "source": [
    "题目：输入一个单链表，输出此链表中的倒数第 K 个节点。（去除头结点，节点计数从 1 开始）。"
   ]
  },
  {
   "cell_type": "markdown",
   "metadata": {},
   "source": [
    "### 两次遍历法\n",
    "1. 遍历单链表，遍历同时得出链表长度 N 。\n",
    "2. 再次从头遍历，访问至第 N - K 个节点为所求节点。"
   ]
  },
  {
   "cell_type": "code",
   "execution_count": 19,
   "metadata": {
    "ExecuteTime": {
     "end_time": "2019-03-22T08:39:06.370140Z",
     "start_time": "2019-03-22T08:39:06.354916Z"
    }
   },
   "outputs": [],
   "source": [
    "class getKthSolution():\n",
    "    def list_lenght(self, n):\n",
    "        if not n:\n",
    "            return 0\n",
    "        cur = n.next\n",
    "        count = 0\n",
    "        while cur != None:\n",
    "            count += 1\n",
    "            cur = cur.next\n",
    "        return count\n",
    "\n",
    "    def get_Kth(self, n, k):\n",
    "        if not n:\n",
    "            return 0\n",
    "        list_len = list_lenght(n)\n",
    "        cur = n.next\n",
    "        count = 0\n",
    "        stp = list_len-k\n",
    "        while cur != None:\n",
    "            if count == stp:\n",
    "                return cur.val\n",
    "            count += 1\n",
    "            cur = cur.next"
   ]
  },
  {
   "cell_type": "code",
   "execution_count": 20,
   "metadata": {
    "ExecuteTime": {
     "end_time": "2019-03-22T08:39:07.157956Z",
     "start_time": "2019-03-22T08:39:07.149746Z"
    }
   },
   "outputs": [
    {
     "name": "stdout",
     "output_type": "stream",
     "text": [
      "5\n"
     ]
    }
   ],
   "source": [
    "s = getKthSolution()\n",
    "print(s.get_Kth(n1, 2))"
   ]
  },
  {
   "cell_type": "markdown",
   "metadata": {},
   "source": [
    "### 递归法\n",
    "1. 定义num = k\n",
    "2. 使用递归方式遍历至链表末尾。\n",
    "3. 由末尾开始返回，每返回一次 num 减 1\n",
    "4. 当 num 为 0 时，即可找到目标节点"
   ]
  },
  {
   "cell_type": "code",
   "execution_count": 38,
   "metadata": {
    "ExecuteTime": {
     "end_time": "2019-03-23T02:50:29.247974Z",
     "start_time": "2019-03-23T02:50:29.236358Z"
    }
   },
   "outputs": [],
   "source": [
    "class getKthSolutionII():\n",
    "    num = 0\n",
    "\n",
    "    def recursive(self, pHead, k):\n",
    "        self.num = k\n",
    "        if not pHead:\n",
    "            return None\n",
    "        cur = self.recursive(pHead.next, k)\n",
    "        if not cur:\n",
    "            return cur\n",
    "        else:\n",
    "            self.num -= 1\n",
    "            if self.num == 0:\n",
    "                return pHead\n",
    "            return None"
   ]
  },
  {
   "cell_type": "code",
   "execution_count": 39,
   "metadata": {
    "ExecuteTime": {
     "end_time": "2019-03-23T02:50:30.259273Z",
     "start_time": "2019-03-23T02:50:30.247866Z"
    }
   },
   "outputs": [
    {
     "name": "stdout",
     "output_type": "stream",
     "text": [
      "0\n",
      "2\n",
      "2\n",
      "2\n",
      "2\n",
      "2\n",
      "None\n"
     ]
    }
   ],
   "source": [
    "s = getKthSolutionII()\n",
    "print(s.recursive(n1.next, 2))"
   ]
  },
  {
   "cell_type": "code",
   "execution_count": null,
   "metadata": {},
   "outputs": [],
   "source": []
  }
 ],
 "metadata": {
  "kernelspec": {
   "display_name": "Python 3",
   "language": "python",
   "name": "python3"
  },
  "language_info": {
   "codemirror_mode": {
    "name": "ipython",
    "version": 3
   },
   "file_extension": ".py",
   "mimetype": "text/x-python",
   "name": "python",
   "nbconvert_exporter": "python",
   "pygments_lexer": "ipython3",
   "version": "3.6.8"
  },
  "toc": {
   "base_numbering": 1,
   "nav_menu": {},
   "number_sections": true,
   "sideBar": true,
   "skip_h1_title": false,
   "title_cell": "Table of Contents",
   "title_sidebar": "Contents",
   "toc_cell": false,
   "toc_position": {},
   "toc_section_display": true,
   "toc_window_display": false
  },
  "varInspector": {
   "cols": {
    "lenName": 16,
    "lenType": 16,
    "lenVar": 40
   },
   "kernels_config": {
    "python": {
     "delete_cmd_postfix": "",
     "delete_cmd_prefix": "del ",
     "library": "var_list.py",
     "varRefreshCmd": "print(var_dic_list())"
    },
    "r": {
     "delete_cmd_postfix": ") ",
     "delete_cmd_prefix": "rm(",
     "library": "var_list.r",
     "varRefreshCmd": "cat(var_dic_list()) "
    }
   },
   "types_to_exclude": [
    "module",
    "function",
    "builtin_function_or_method",
    "instance",
    "_Feature"
   ],
   "window_display": false
  }
 },
 "nbformat": 4,
 "nbformat_minor": 2
}
