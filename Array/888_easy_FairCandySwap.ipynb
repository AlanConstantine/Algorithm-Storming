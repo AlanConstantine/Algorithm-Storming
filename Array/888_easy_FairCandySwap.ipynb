{
 "cells": [
  {
   "cell_type": "code",
   "execution_count": 1,
   "metadata": {
    "ExecuteTime": {
     "end_time": "2019-01-09T16:51:11.564219Z",
     "start_time": "2019-01-09T16:51:11.557349Z"
    }
   },
   "outputs": [],
   "source": [
    "# 爱丽丝和鲍勃有不同大小的糖果棒：A[i] 是爱丽丝拥有的第 i 块糖的大小，B[j] 是鲍勃拥有的第 j 块糖的大小。\n",
    "\n",
    "# 因为他们是朋友，所以他们想交换一个糖果棒，这样交换后，他们都有相同的糖果总量。（一个人拥有的糖果总量是他们拥有的糖果棒大小的总和。）\n",
    "\n",
    "# 返回一个整数数组 ans，其中 ans[0] 是爱丽丝必须交换的糖果棒的大小，ans[1] 是 Bob 必须交换的糖果棒的大小。\n",
    "\n",
    "# 如果有多个答案，你可以返回其中任何一个。保证答案存在。\n",
    "\n",
    "\n",
    "# 示例 1：\n",
    "\n",
    "# 输入：A = [1,1], B = [2,2]\n",
    "# 输出：[1,2]\n",
    "# 示例 2：\n",
    "\n",
    "# 输入：A = [1,2], B = [2,3]\n",
    "# 输出：[1,2]\n",
    "# 示例 3：\n",
    "\n",
    "# 输入：A = [2], B = [1,3]\n",
    "# 输出：[2,3]\n",
    "# 示例 4：\n",
    "\n",
    "# 输入：A = [1,2,5], B = [2,4]\n",
    "# 输出：[5,4]\n",
    "\n",
    "\n",
    "# 提示：\n",
    "\n",
    "# 1 <= A.length <= 10000\n",
    "# 1 <= B.length <= 10000\n",
    "# 1 <= A[i] <= 100000\n",
    "# 1 <= B[i] <= 100000\n",
    "# 保证爱丽丝与鲍勃的糖果总量不同。\n",
    "# 答案肯定存在。"
   ]
  },
  {
   "cell_type": "code",
   "execution_count": 21,
   "metadata": {
    "ExecuteTime": {
     "end_time": "2019-01-09T17:24:38.153751Z",
     "start_time": "2019-01-09T17:24:38.139417Z"
    }
   },
   "outputs": [],
   "source": [
    "class Solution:\n",
    "    def fairCandySwap(self, A, B):\n",
    "        \"\"\"\n",
    "        :type A: List[int]\n",
    "        :type B: List[int]\n",
    "        :rtype: List[int]\n",
    "        \"\"\"\n",
    "        dif = sum(B) - sum(A)\n",
    "        A, B = set(A), set(B)\n",
    "        for i in A:\n",
    "            if i + dif // 2 in B:\n",
    "                return [i, i + dif // 2]\n",
    "        return []"
   ]
  },
  {
   "cell_type": "code",
   "execution_count": 22,
   "metadata": {
    "ExecuteTime": {
     "end_time": "2019-01-09T17:24:38.714485Z",
     "start_time": "2019-01-09T17:24:38.701171Z"
    }
   },
   "outputs": [
    {
     "data": {
      "text/plain": [
       "[5, 4]"
      ]
     },
     "execution_count": 22,
     "metadata": {},
     "output_type": "execute_result"
    }
   ],
   "source": [
    "A = [1, 2, 5]\n",
    "B = [2, 4]\n",
    "s = Solution()\n",
    "s.fairCandySwap(A, B)"
   ]
  },
  {
   "cell_type": "code",
   "execution_count": 19,
   "metadata": {
    "ExecuteTime": {
     "end_time": "2019-01-09T17:19:52.772118Z",
     "start_time": "2019-01-09T17:19:52.763079Z"
    }
   },
   "outputs": [
    {
     "data": {
      "text/plain": [
       "1"
      ]
     },
     "execution_count": 19,
     "metadata": {},
     "output_type": "execute_result"
    }
   ],
   "source": [
    "2//2"
   ]
  },
  {
   "cell_type": "code",
   "execution_count": 20,
   "metadata": {
    "ExecuteTime": {
     "end_time": "2019-01-09T17:21:56.963188Z",
     "start_time": "2019-01-09T17:21:56.948280Z"
    }
   },
   "outputs": [
    {
     "ename": "IndentationError",
     "evalue": "expected an indented block (<ipython-input-20-9953050aec34>, line 7)",
     "output_type": "error",
     "traceback": [
      "\u001b[0;36m  File \u001b[0;32m\"<ipython-input-20-9953050aec34>\"\u001b[0;36m, line \u001b[0;32m7\u001b[0m\n\u001b[0;31m    \"\"\"\u001b[0m\n\u001b[0m       \n^\u001b[0m\n\u001b[0;31mIndentationError\u001b[0m\u001b[0;31m:\u001b[0m expected an indented block\n"
     ]
    }
   ],
   "source": [
    "class Solution:\n",
    "    def fairCandySwap(self, A, B):\n",
    "\n",
    "    dif = sum(B) - sum(A)\n",
    "    A, B = set(A), set(B)\n",
    "    for i in A:\n",
    "        if i + dif // 2 in B:\n",
    "            return [i, i + dif // 2]\n",
    "    return []"
   ]
  },
  {
   "cell_type": "code",
   "execution_count": null,
   "metadata": {},
   "outputs": [],
   "source": []
  }
 ],
 "metadata": {
  "kernelspec": {
   "display_name": "Python 3",
   "language": "python",
   "name": "python3"
  },
  "language_info": {
   "codemirror_mode": {
    "name": "ipython",
    "version": 3
   },
   "file_extension": ".py",
   "mimetype": "text/x-python",
   "name": "python",
   "nbconvert_exporter": "python",
   "pygments_lexer": "ipython3",
   "version": "3.5.2"
  },
  "toc": {
   "base_numbering": 1,
   "nav_menu": {},
   "number_sections": true,
   "sideBar": true,
   "skip_h1_title": false,
   "title_cell": "Table of Contents",
   "title_sidebar": "Contents",
   "toc_cell": false,
   "toc_position": {},
   "toc_section_display": true,
   "toc_window_display": false
  },
  "varInspector": {
   "cols": {
    "lenName": 16,
    "lenType": 16,
    "lenVar": 40
   },
   "kernels_config": {
    "python": {
     "delete_cmd_postfix": "",
     "delete_cmd_prefix": "del ",
     "library": "var_list.py",
     "varRefreshCmd": "print(var_dic_list())"
    },
    "r": {
     "delete_cmd_postfix": ") ",
     "delete_cmd_prefix": "rm(",
     "library": "var_list.r",
     "varRefreshCmd": "cat(var_dic_list()) "
    }
   },
   "types_to_exclude": [
    "module",
    "function",
    "builtin_function_or_method",
    "instance",
    "_Feature"
   ],
   "window_display": false
  }
 },
 "nbformat": 4,
 "nbformat_minor": 2
}
