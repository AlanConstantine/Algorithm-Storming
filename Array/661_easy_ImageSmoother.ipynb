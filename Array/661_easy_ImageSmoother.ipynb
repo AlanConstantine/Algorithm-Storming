{
 "cells": [
  {
   "cell_type": "code",
   "execution_count": 1,
   "metadata": {
    "ExecuteTime": {
     "end_time": "2019-01-08T17:14:33.627487Z",
     "start_time": "2019-01-08T17:14:33.620360Z"
    }
   },
   "outputs": [],
   "source": [
    "# 包含整数的二维矩阵 M 表示一个图片的灰度。你需要设计一个平滑器来让每一个单元的灰度成为平均灰度 (向下舍入) ，平均灰度的计算是周围的8个单元和它本身的值求平均，如果周围的单元格不足八个，则尽可能多的利用它们。\n",
    "\n",
    "# 示例 1:\n",
    "\n",
    "# 输入:\n",
    "# [[1,1,1],\n",
    "#  [1,0,1],\n",
    "#  [1,1,1]]\n",
    "# 输出:\n",
    "# [[0, 0, 0],\n",
    "#  [0, 0, 0],\n",
    "#  [0, 0, 0]]\n",
    "# 解释:\n",
    "# 对于点 (0,0), (0,2), (2,0), (2,2): 平均(3/4) = 平均(0.75) = 0\n",
    "# 对于点 (0,1), (1,0), (1,2), (2,1): 平均(5/6) = 平均(0.83333333) = 0\n",
    "# 对于点 (1,1): 平均(8/9) = 平均(0.88888889) = 0\n",
    "# 注意:\n",
    "\n",
    "# 给定矩阵中的整数范围为 [0, 255]。\n",
    "# 矩阵的长和宽的范围均为 [1, 150]。"
   ]
  },
  {
   "cell_type": "code",
   "execution_count": 46,
   "metadata": {
    "ExecuteTime": {
     "end_time": "2019-01-08T17:47:20.710397Z",
     "start_time": "2019-01-08T17:47:20.691291Z"
    }
   },
   "outputs": [],
   "source": [
    "class Solution:\n",
    "    def imageSmoother(self, M):\n",
    "        \"\"\"\n",
    "        :type M: List[List[int]]\n",
    "        :rtype: List[List[int]]\n",
    "        \"\"\"\n",
    "        sum_ = 0\n",
    "        count = 1\n",
    "        row = len(M)\n",
    "        col = len(M[0])\n",
    "        resM = [[0 for c in range(col)] for r in range(row)]\n",
    "        for r in range(row):\n",
    "            for c in range(col):\n",
    "                sum_ = M[r][c]\n",
    "                if r-1 >= 0:\n",
    "                    sum_ += M[r-1][c]\n",
    "                    count+=1\n",
    "                if c-1 >= 0:\n",
    "                    sum_ += M[r][c-1]\n",
    "                    count += 1\n",
    "                if r-1 >= 0 and c-1 >= 0:\n",
    "                    sum_ += M[r-1][c-1]\n",
    "                    count += 1\n",
    "                if r+1 < row:\n",
    "                    sum_ += M[r+1][c]\n",
    "                    count += 1\n",
    "                if c+1 < col:\n",
    "                    sum_ += M[r][c+1]\n",
    "                    count += 1\n",
    "                if c+1 < col and r+1 < row:\n",
    "                    sum_ += M[r+1][c+1]\n",
    "                    count += 1\n",
    "                if r-1 >= 0 and c+1 < col:\n",
    "                    sum_ += M[r-1][c+1]\n",
    "                    count +=1\n",
    "                if r+1 < row and c-1 >= 0:\n",
    "                    sum_ += M[r+1][c-1]\n",
    "                    count += 1\n",
    "\n",
    "                resM[r][c] = int(sum_/count)\n",
    "                count = 1\n",
    "        return resM"
   ]
  },
  {
   "cell_type": "code",
   "execution_count": 47,
   "metadata": {
    "ExecuteTime": {
     "end_time": "2019-01-08T17:47:21.191756Z",
     "start_time": "2019-01-08T17:47:21.173742Z"
    }
   },
   "outputs": [
    {
     "name": "stdout",
     "output_type": "stream",
     "text": [
      "3 4 0.75\n",
      "5 6 0.8333333333333334\n",
      "3 4 0.75\n",
      "5 6 0.8333333333333334\n",
      "8 9 0.8888888888888888\n",
      "5 6 0.8333333333333334\n",
      "3 4 0.75\n",
      "5 6 0.8333333333333334\n",
      "3 4 0.75\n"
     ]
    },
    {
     "data": {
      "text/plain": [
       "[[0, 0, 0], [0, 0, 0], [0, 0, 0]]"
      ]
     },
     "execution_count": 47,
     "metadata": {},
     "output_type": "execute_result"
    }
   ],
   "source": [
    "A = [[1, 1, 1],\n",
    "     [1, 0, 1],\n",
    "     [1, 1, 1]]\n",
    "s = Solution()\n",
    "s.imageSmoother(A)"
   ]
  },
  {
   "cell_type": "code",
   "execution_count": 23,
   "metadata": {
    "ExecuteTime": {
     "end_time": "2019-01-08T17:27:59.018821Z",
     "start_time": "2019-01-08T17:27:59.007393Z"
    }
   },
   "outputs": [
    {
     "data": {
      "text/plain": [
       "0"
      ]
     },
     "execution_count": 23,
     "metadata": {},
     "output_type": "execute_result"
    }
   ],
   "source": [
    "int(0.74)"
   ]
  },
  {
   "cell_type": "code",
   "execution_count": null,
   "metadata": {},
   "outputs": [],
   "source": []
  }
 ],
 "metadata": {
  "kernelspec": {
   "display_name": "Python 3",
   "language": "python",
   "name": "python3"
  },
  "language_info": {
   "codemirror_mode": {
    "name": "ipython",
    "version": 3
   },
   "file_extension": ".py",
   "mimetype": "text/x-python",
   "name": "python",
   "nbconvert_exporter": "python",
   "pygments_lexer": "ipython3",
   "version": "3.5.2"
  },
  "toc": {
   "base_numbering": 1,
   "nav_menu": {},
   "number_sections": true,
   "sideBar": true,
   "skip_h1_title": false,
   "title_cell": "Table of Contents",
   "title_sidebar": "Contents",
   "toc_cell": false,
   "toc_position": {},
   "toc_section_display": true,
   "toc_window_display": false
  },
  "varInspector": {
   "cols": {
    "lenName": 16,
    "lenType": 16,
    "lenVar": 40
   },
   "kernels_config": {
    "python": {
     "delete_cmd_postfix": "",
     "delete_cmd_prefix": "del ",
     "library": "var_list.py",
     "varRefreshCmd": "print(var_dic_list())"
    },
    "r": {
     "delete_cmd_postfix": ") ",
     "delete_cmd_prefix": "rm(",
     "library": "var_list.r",
     "varRefreshCmd": "cat(var_dic_list()) "
    }
   },
   "types_to_exclude": [
    "module",
    "function",
    "builtin_function_or_method",
    "instance",
    "_Feature"
   ],
   "window_display": false
  }
 },
 "nbformat": 4,
 "nbformat_minor": 2
}
