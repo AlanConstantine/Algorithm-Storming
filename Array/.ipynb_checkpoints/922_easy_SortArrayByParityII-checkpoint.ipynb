{
 "cells": [
  {
   "cell_type": "code",
   "execution_count": 1,
   "metadata": {
    "ExecuteTime": {
     "end_time": "2019-01-03T03:41:56.534638Z",
     "start_time": "2019-01-03T03:41:56.524366Z"
    }
   },
   "outputs": [],
   "source": [
    "# 给定一个非负整数数组 A， A 中一半整数是奇数，一半整数是偶数。\n",
    "# 对数组进行排序，以便当 A[i] 为奇数时，i 也是奇数；当 A[i] 为偶数时， i 也是偶数。\n",
    "# 你可以返回任何满足上述条件的数组作为答案。\n",
    "# 示例：\n",
    "# 输入：[4,2,5,7]\n",
    "# 输出：[4,5,2,7]\n",
    "# 解释：[4,7,2,5]，[2,5,4,7]，[2,7,4,5] 也会被接受。\n",
    "# 提示：\n",
    "# 2 <= A.length <= 20000\n",
    "# A.length % 2 == 0\n",
    "# 0 <= A[i] <= 1000"
   ]
  },
  {
   "cell_type": "code",
   "execution_count": 7,
   "metadata": {
    "ExecuteTime": {
     "end_time": "2019-01-05T02:53:59.996935Z",
     "start_time": "2019-01-05T02:53:59.984919Z"
    }
   },
   "outputs": [],
   "source": [
    "class Solution:\n",
    "    def sortArrayByParityII(self, A):\n",
    "        \"\"\"\n",
    "        :type A: List[int]\n",
    "        :rtype: List[int]\n",
    "        \"\"\"\n",
    "        res = [0]*len(A)\n",
    "        odd = 1\n",
    "        even = 0\n",
    "        for a in A:\n",
    "            if a % 2 == 0:\n",
    "                res[even] = a\n",
    "                even += 2\n",
    "            else:\n",
    "                res[odd] = a\n",
    "                odd += 2\n",
    "        return res"
   ]
  },
  {
   "cell_type": "code",
   "execution_count": 8,
   "metadata": {
    "ExecuteTime": {
     "end_time": "2019-01-05T02:54:01.143580Z",
     "start_time": "2019-01-05T02:54:01.136261Z"
    }
   },
   "outputs": [],
   "source": [
    "A = [4, 2, 5, 7]"
   ]
  },
  {
   "cell_type": "code",
   "execution_count": 9,
   "metadata": {
    "ExecuteTime": {
     "end_time": "2019-01-05T02:54:02.787757Z",
     "start_time": "2019-01-05T02:54:02.779229Z"
    }
   },
   "outputs": [
    {
     "name": "stdout",
     "output_type": "stream",
     "text": [
      "[4, 5, 2, 7]\n"
     ]
    }
   ],
   "source": [
    "s = Solution()\n",
    "print(s.sortArrayByParityII(A))"
   ]
  },
  {
   "cell_type": "code",
   "execution_count": null,
   "metadata": {},
   "outputs": [],
   "source": []
  }
 ],
 "metadata": {
  "kernelspec": {
   "display_name": "Python 3",
   "language": "python",
   "name": "python3"
  },
  "language_info": {
   "codemirror_mode": {
    "name": "ipython",
    "version": 3
   },
   "file_extension": ".py",
   "mimetype": "text/x-python",
   "name": "python",
   "nbconvert_exporter": "python",
   "pygments_lexer": "ipython3",
   "version": "3.5.2"
  },
  "toc": {
   "base_numbering": 1,
   "nav_menu": {},
   "number_sections": true,
   "sideBar": true,
   "skip_h1_title": false,
   "title_cell": "Table of Contents",
   "title_sidebar": "Contents",
   "toc_cell": false,
   "toc_position": {},
   "toc_section_display": true,
   "toc_window_display": false
  },
  "varInspector": {
   "cols": {
    "lenName": 16,
    "lenType": 16,
    "lenVar": 40
   },
   "kernels_config": {
    "python": {
     "delete_cmd_postfix": "",
     "delete_cmd_prefix": "del ",
     "library": "var_list.py",
     "varRefreshCmd": "print(var_dic_list())"
    },
    "r": {
     "delete_cmd_postfix": ") ",
     "delete_cmd_prefix": "rm(",
     "library": "var_list.r",
     "varRefreshCmd": "cat(var_dic_list()) "
    }
   },
   "types_to_exclude": [
    "module",
    "function",
    "builtin_function_or_method",
    "instance",
    "_Feature"
   ],
   "window_display": false
  }
 },
 "nbformat": 4,
 "nbformat_minor": 2
}
