{
 "cells": [
  {
   "cell_type": "code",
   "execution_count": 1,
   "source": [
    "class TreeNode(object):\n",
    "    def __init__(self, val):\n",
    "        super().__init__()\n",
    "        self.val = val\n",
    "        self.left = None\n",
    "        self.right = None"
   ],
   "outputs": [],
   "metadata": {}
  },
  {
   "cell_type": "code",
   "execution_count": 2,
   "source": [
    "preorder = [1, 2, 4, 7, 3, 5, 6, 8]\n",
    "inorder = [4, 7, 2, 1, 5, 3, 8, 6]"
   ],
   "outputs": [],
   "metadata": {}
  },
  {
   "cell_type": "code",
   "execution_count": null,
   "source": [
    "def rebuildtree(preorder, inorder):\n",
    "    if (not preorder) or (not inorder) <= 0:\n",
    "        return None\n",
    "    root = TreeNode(preorder[0])\n",
    "\n",
    "    if len(preorder) == 1:\n",
    "        return root\n",
    "\n",
    "    i = 0, j = 1\n",
    "    while i <= len(inorder):\n",
    "        if inorder[i] == root.val:\n",
    "            break\n",
    "        i += 1\n",
    "    if i != 0:\n",
    "        inorderleft = inorder[:i]\n",
    "    else:\n",
    "        inorderleft = None\n",
    "        preorderleft = None\n",
    "    if i + 1 < len(inorder):\n",
    "        inorderright = inorder[i+1:]\n",
    "    else:\n",
    "        inorderright = None\n",
    "        preorderright = None\n",
    "\n",
    "    while j < len(preorder) and inorderleft:\n",
    "        if preorder[j] not in inorderleft:\n",
    "            break\n",
    "        j += 1\n",
    "    preorderleft = preorder[1:j]\n",
    "    preorderright = preorder[j:]\n",
    "\n",
    "    root.left = rebuildtree(preorderleft, inorderleft)\n",
    "    root.right = rebuildtree(preorderright, inorderright)\n",
    "\n",
    "\n"
   ],
   "outputs": [],
   "metadata": {}
  },
  {
   "cell_type": "code",
   "execution_count": 3,
   "source": [
    "a = []\n",
    "b = []"
   ],
   "outputs": [],
   "metadata": {}
  },
  {
   "cell_type": "code",
   "execution_count": 7,
   "source": [
    "if (not a) or (not b) :\n",
    "    print('fil')"
   ],
   "outputs": [
    {
     "output_type": "stream",
     "name": "stdout",
     "text": [
      "fil\n"
     ]
    }
   ],
   "metadata": {}
  },
  {
   "cell_type": "code",
   "execution_count": null,
   "source": [],
   "outputs": [],
   "metadata": {}
  }
 ],
 "metadata": {
  "orig_nbformat": 4,
  "language_info": {
   "name": "python",
   "version": "3.8.8",
   "mimetype": "text/x-python",
   "codemirror_mode": {
    "name": "ipython",
    "version": 3
   },
   "pygments_lexer": "ipython3",
   "nbconvert_exporter": "python",
   "file_extension": ".py"
  },
  "kernelspec": {
   "name": "python3",
   "display_name": "Python 3.8.8 64-bit ('base': conda)"
  },
  "interpreter": {
   "hash": "1b89aa55be347d0b8cc51b3a166e8002614a385bd8cff32165269c80e70c12a7"
  }
 },
 "nbformat": 4,
 "nbformat_minor": 2
}