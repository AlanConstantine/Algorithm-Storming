{
 "cells": [
  {
   "cell_type": "code",
   "execution_count": 1,
   "source": [
    "class TreeNode(object):\n",
    "    def __init__(self, val):\n",
    "        super().__init__()\n",
    "        self.val = val\n",
    "        self.left = None\n",
    "        self.right = None"
   ],
   "outputs": [],
   "metadata": {}
  },
  {
   "cell_type": "code",
   "execution_count": 9,
   "source": [
    "a = TreeNode(4)\n",
    "b = TreeNode(6)\n",
    "c = TreeNode(8)\n",
    "d = TreeNode(10)\n",
    "e = TreeNode(12)\n",
    "f = TreeNode(14)\n",
    "g = TreeNode(16)\n",
    "\n",
    "d.left = b\n",
    "d.right = f\n",
    "b.left = a\n",
    "b.right = c\n",
    "f.left = e\n",
    "f.right = g"
   ],
   "outputs": [],
   "metadata": {}
  },
  {
   "cell_type": "code",
   "execution_count": 6,
   "source": [
    "def pre_traversal(node):\n",
    "    # root, left, right\n",
    "    if not node:\n",
    "        return None\n",
    "    print(node.val)\n",
    "    pre_traversal(node.left)\n",
    "    # print(node.val)\n",
    "    pre_traversal(node.right)\n",
    "\n",
    "def post_traversal(node):\n",
    "    # left, right, root\n",
    "    if not node:\n",
    "        return None\n",
    "    pre_traversal(node.left)\n",
    "    pre_traversal(node.right)\n",
    "    print(node.val)\n",
    "\n",
    "def in_traversal(node):\n",
    "    # left, root, right\n",
    "    if not node:\n",
    "        return None\n",
    "    pre_traversal(node.left)\n",
    "    print(node.val)\n",
    "    pre_traversal(node.right)"
   ],
   "outputs": [],
   "metadata": {}
  },
  {
   "cell_type": "code",
   "execution_count": 11,
   "source": [
    "pre_traversal(d)"
   ],
   "outputs": [
    {
     "output_type": "stream",
     "name": "stdout",
     "text": [
      "10\n",
      "6\n",
      "4\n",
      "8\n",
      "14\n",
      "12\n",
      "16\n"
     ]
    }
   ],
   "metadata": {}
  },
  {
   "cell_type": "code",
   "execution_count": null,
   "source": [],
   "outputs": [],
   "metadata": {}
  }
 ],
 "metadata": {
  "orig_nbformat": 4,
  "language_info": {
   "name": "python",
   "version": "3.8.8",
   "mimetype": "text/x-python",
   "codemirror_mode": {
    "name": "ipython",
    "version": 3
   },
   "pygments_lexer": "ipython3",
   "nbconvert_exporter": "python",
   "file_extension": ".py"
  },
  "kernelspec": {
   "name": "python3",
   "display_name": "Python 3.8.8 64-bit ('base': conda)"
  },
  "interpreter": {
   "hash": "1b89aa55be347d0b8cc51b3a166e8002614a385bd8cff32165269c80e70c12a7"
  }
 },
 "nbformat": 4,
 "nbformat_minor": 2
}