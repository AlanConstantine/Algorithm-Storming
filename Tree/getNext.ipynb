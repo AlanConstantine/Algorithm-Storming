{
 "cells": [
  {
   "cell_type": "code",
   "execution_count": 2,
   "source": [
    "from Tree import in_traversal, TreeNodePre"
   ],
   "outputs": [],
   "metadata": {}
  },
  {
   "cell_type": "code",
   "execution_count": 11,
   "source": [
    "a = TreeNodePre('a')\n",
    "b = TreeNodePre('b')\n",
    "c = TreeNodePre('c')\n",
    "d = TreeNodePre('d')\n",
    "e = TreeNodePre('e')\n",
    "f = TreeNodePre('f')\n",
    "g = TreeNodePre('g')\n",
    "h = TreeNodePre('h')\n",
    "i = TreeNodePre('i')\n",
    "\n",
    "a.left = b\n",
    "a.right = c\n",
    "b.pre = a\n",
    "b.left = d\n",
    "b.right = e\n",
    "d.pre = b\n",
    "e.pre = b\n",
    "e.left = h\n",
    "e.right = i\n",
    "c.pre = a\n",
    "c.left = f\n",
    "c.right = g\n",
    "\n",
    "in_traversal(a)"
   ],
   "outputs": [
    {
     "output_type": "execute_result",
     "data": {
      "text/plain": [
       "['d', 'b', 'h', 'e', 'i', 'a', 'f', 'c', 'g']"
      ]
     },
     "metadata": {},
     "execution_count": 11
    }
   ],
   "metadata": {}
  },
  {
   "cell_type": "code",
   "execution_count": null,
   "source": [],
   "outputs": [],
   "metadata": {}
  }
 ],
 "metadata": {
  "orig_nbformat": 4,
  "language_info": {
   "name": "python",
   "version": "3.7.6",
   "mimetype": "text/x-python",
   "codemirror_mode": {
    "name": "ipython",
    "version": 3
   },
   "pygments_lexer": "ipython3",
   "nbconvert_exporter": "python",
   "file_extension": ".py"
  },
  "kernelspec": {
   "name": "python3",
   "display_name": "Python 3.7.6 64-bit ('base': conda)"
  },
  "interpreter": {
   "hash": "7b4c34fa5edc2b5c200e84280da452af41185f443fff3e767a73b82cf30c2550"
  }
 },
 "nbformat": 4,
 "nbformat_minor": 2
}